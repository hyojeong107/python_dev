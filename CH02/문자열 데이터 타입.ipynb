{
 "cells": [
  {
   "cell_type": "code",
   "execution_count": null,
   "metadata": {},
   "outputs": [],
   "source": [
    "# 데이터는 한줄이다.\n",
    "multiline = 'Life is too short \\n you need python'"
   ]
  },
  {
   "cell_type": "code",
   "execution_count": null,
   "metadata": {},
   "outputs": [
    {
     "name": "stdout",
     "output_type": "stream",
     "text": [
      "Life is too short \n",
      " you need python\n"
     ]
    }
   ],
   "source": [
    "#print 할 때 역슬래시 n이 먹은 것\n",
    "print(multiline)"
   ]
  },
  {
   "cell_type": "code",
   "execution_count": 8,
   "metadata": {},
   "outputs": [
    {
     "data": {
      "text/plain": [
       "'Life is too short \\n you need python'"
      ]
     },
     "execution_count": 8,
     "metadata": {},
     "output_type": "execute_result"
    }
   ],
   "source": [
    "# print가 없으면 출력이 아니다. 값만 확인하는 것 \n",
    "multiline"
   ]
  },
  {
   "cell_type": "code",
   "execution_count": null,
   "metadata": {},
   "outputs": [],
   "source": [
    "#3개짜리 잘 안쓴다\n",
    "multiline ='''\n",
    "life is too short\n",
    "you need python\n",
    "'''"
   ]
  },
  {
   "cell_type": "code",
   "execution_count": null,
   "metadata": {},
   "outputs": [
    {
     "data": {
      "text/plain": [
       "'\\nlife is too short\\nyou need python\\n'"
      ]
     },
     "execution_count": 10,
     "metadata": {},
     "output_type": "execute_result"
    }
   ],
   "source": [
    "#print 안하면 한줄이다.\n",
    "multiline"
   ]
  },
  {
   "cell_type": "code",
   "execution_count": 11,
   "metadata": {},
   "outputs": [
    {
     "name": "stdout",
     "output_type": "stream",
     "text": [
      "\n",
      "life is too short\n",
      "you need python\n",
      "\n"
     ]
    }
   ],
   "source": [
    "print(multiline)"
   ]
  },
  {
   "cell_type": "code",
   "execution_count": 12,
   "metadata": {},
   "outputs": [],
   "source": [
    "multiline ='''life is too short\n",
    "you need python'''"
   ]
  },
  {
   "cell_type": "code",
   "execution_count": 13,
   "metadata": {},
   "outputs": [
    {
     "name": "stdout",
     "output_type": "stream",
     "text": [
      "life is too short\n",
      "you need python\n"
     ]
    }
   ],
   "source": [
    "print(multiline)"
   ]
  },
  {
   "cell_type": "code",
   "execution_count": 14,
   "metadata": {},
   "outputs": [
    {
     "data": {
      "text/plain": [
       "'\\n1.주석\\n2.여러줄 주석\\n3.대입을 안하면 쓰레기 데이터가 된다 => 따라서 주석으로 사용됨 \\n\\n'"
      ]
     },
     "execution_count": 14,
     "metadata": {},
     "output_type": "execute_result"
    }
   ],
   "source": [
    "'''\n",
    "1.주석\n",
    "2.여러줄 주석\n",
    "3.대입을 안하면 쓰레기 데이터가 된다 => 따라서 주석으로 사용됨 \n",
    "\n",
    "'''"
   ]
  },
  {
   "cell_type": "code",
   "execution_count": 16,
   "metadata": {},
   "outputs": [
    {
     "name": "stdout",
     "output_type": "stream",
     "text": [
      "====================\n",
      "연락처 프로그램\n",
      "====================\n"
     ]
    }
   ],
   "source": [
    "print('='*20)\n",
    "print('연락처 프로그램')\n",
    "print('='*20)"
   ]
  },
  {
   "cell_type": "code",
   "execution_count": 17,
   "metadata": {},
   "outputs": [],
   "source": [
    "a ='life is too short, you need python'"
   ]
  },
  {
   "cell_type": "code",
   "execution_count": null,
   "metadata": {},
   "outputs": [
    {
     "data": {
      "text/plain": [
       "('e', 's', 'n', 'n', 'h')"
      ]
     },
     "execution_count": 22,
     "metadata": {},
     "output_type": "execute_result"
    }
   ],
   "source": [
    "# [] 대괄호 : list\n",
    "# [-1] : 맨 뒷글자\n",
    "# [-3] : 뒤에서 3번째 : h\n",
    "a[3], a[12] ,a[33] , a[-1] ,a[-3]"
   ]
  },
  {
   "cell_type": "code",
   "execution_count": null,
   "metadata": {},
   "outputs": [
    {
     "name": "stdout",
     "output_type": "stream",
     "text": [
      "life\n"
     ]
    }
   ],
   "source": [
    "# 인덱싱 방식 \n",
    "# 'life'라는 단어 추출 \n",
    "b= a[0]+a[1]+a[2]+a[3]\n",
    "print(b)"
   ]
  },
  {
   "cell_type": "code",
   "execution_count": null,
   "metadata": {},
   "outputs": [
    {
     "data": {
      "text/plain": [
       "'life'"
      ]
     },
     "execution_count": 28,
     "metadata": {},
     "output_type": "execute_result"
    }
   ],
   "source": [
    "# 슬라이싱 방식 \n",
    "# 슬라이싱 : 여러개 접근시 사용 => : 범위 지정\n",
    "# 'life'라는 단어 추출 \n",
    "# [시작 인덱스 : 끝 인덱스 -1]\n",
    "a ='life is too short, you need python'\n",
    "a[0:4]"
   ]
  },
  {
   "cell_type": "code",
   "execution_count": 4,
   "metadata": {},
   "outputs": [
    {
     "data": {
      "text/plain": [
       "'life is'"
      ]
     },
     "execution_count": 4,
     "metadata": {},
     "output_type": "execute_result"
    }
   ],
   "source": [
    "# life is를 가져오고 싶을 때\n",
    "a ='life istoo short, you need python'\n",
    "a[0:7]"
   ]
  },
  {
   "cell_type": "code",
   "execution_count": 32,
   "metadata": {},
   "outputs": [
    {
     "data": {
      "text/plain": [
       "'is'"
      ]
     },
     "execution_count": 32,
     "metadata": {},
     "output_type": "execute_result"
    }
   ],
   "source": [
    "# is를 가져오고 싶을 때\n",
    "a ='life is too short, you need python'\n",
    "a[5:7]"
   ]
  },
  {
   "cell_type": "markdown",
   "metadata": {},
   "source": [
    "### 슬라이싱 사용 방법 \n",
    " 1. [시작값 : 끝값] => 시작값부터 끝값-1까지 추출\n",
    " 2. [시작값 : X] => 시작값부터 끝까지 추출\n",
    " 3. [x : 끝값] => 처음부터 끝값 -1 까지 추출\n",
    " 4. [x : x] => 처음부터 끝까지 추출 \n",
    " '-'마이너스 인덱스 사용 할 수 있다."
   ]
  },
  {
   "cell_type": "markdown",
   "metadata": {
    "tags": [
     "parameters"
    ]
   },
   "source": [
    "$$X_{1,j} \\mathbf{F}X_{2,j}  = 0, \\tag{1}$$"
   ]
  },
  {
   "cell_type": "code",
   "execution_count": 40,
   "metadata": {},
   "outputs": [
    {
     "name": "stdout",
     "output_type": "stream",
     "text": [
      "20250213\n",
      "Rainy\n"
     ]
    }
   ],
   "source": [
    "#데이터로 년월일날씨가 입력된다.\n",
    "#날짜, 날씨 분리\n",
    "data = '20250213Rainy'\n",
    "\n",
    "#많이 사용 할 것 같은 단어는 변수명으로 안쓴다 => 뒤에 언더바 붙여서 사용 \n",
    "date_ = data[0:8]\n",
    "print(date_) \n",
    "weather = data[8:]\n",
    "print(weather)"
   ]
  },
  {
   "cell_type": "code",
   "execution_count": null,
   "metadata": {},
   "outputs": [
    {
     "name": "stdout",
     "output_type": "stream",
     "text": [
      "i\n",
      "python\n",
      "python\n"
     ]
    }
   ],
   "source": [
    "a = 'pithon'\n",
    "print(a[1])\n",
    "# 문자열은 중간에 값 못바꾼다 => tuple(중간에 값 못바꿈)을 상속받았기 때문에\n",
    "# a[1] = 'y' //error => 값 수정이 안된다\n",
    "print (a[0]+'y'+a[2:]) \n",
    "# 오타나면 다시 치는게 좋당..\n",
    "a = 'python'\n",
    "print(a)"
   ]
  },
  {
   "cell_type": "markdown",
   "metadata": {},
   "source": [
    "### 문자열 포매팅 => 많이 쓰임(중요!!!)\n",
    "1. % 사용하는 포매팅\n",
    "2. 문자열 객체 => format 함수 사용하는 포매팅\n",
    "3. f-string 사용하는 포매팅 : 제일 많이 사용 "
   ]
  },
  {
   "cell_type": "code",
   "execution_count": null,
   "metadata": {},
   "outputs": [],
   "source": [
    "a = '현재 온도는 18도 입니다'\n",
    "print(a)\n",
    "a = '현재 온도는 20도 입니다'\n",
    "print(a)\n",
    "a = '현재 온도는 22도 입니다'\n",
    "print(a)"
   ]
  },
  {
   "cell_type": "code",
   "execution_count": null,
   "metadata": {},
   "outputs": [
    {
     "name": "stdout",
     "output_type": "stream",
     "text": [
      "현재 온도는 22도 입니다\n",
      "현재 온도는 22도 입니다\n",
      "현재 온도는 22 도 입니다\n"
     ]
    }
   ],
   "source": [
    "# 1. $사용\n",
    "k = 22\n",
    "# $위치에 k값 넣어라 \n",
    "print('현재 온도는 %d도 입니다' % k)\n",
    "# 2. format function 사용\n",
    "print('현재 온도는 {0}도 입니다'.format(k))\n",
    "# 3. f-string\n",
    "print(f'현재 온도는 {k} 도 입니다')"
   ]
  },
  {
   "cell_type": "markdown",
   "metadata": {},
   "source": [
    "### 중요 단축키 : 편집\n",
    "1. 한줄 복사 : shift + alt + 위 화살표 , 아래 화살표\n",
    "2. 한줄 삭제 : ctrl + shift + k\n",
    "3. 한줄 이동(잘라내서 붙이기) : alt + 위,아래"
   ]
  },
  {
   "cell_type": "code",
   "execution_count": 5,
   "metadata": {},
   "outputs": [
    {
     "name": "stdout",
     "output_type": "stream",
     "text": [
      "사과를 1개, 배는2개 먹었다\n",
      "사과를 one개, 배는two개 먹었다\n",
      "사과를 1개, 배는2개 먹었다\n",
      "사과를 one개, 배는two개 먹었다\n"
     ]
    }
   ],
   "source": [
    "# 1. %사용\n",
    "# 숫자 : d , 문자 : s\n",
    "# print() 메소드는 파라미터(문자열) 한개만 받는다.\n",
    "#print('사과를 %d개, 배는%d개 먹었다' %1,2 ) error\n",
    "print('사과를 %d개, 배는%d개 먹었다' % (1,2) )\n",
    "print('사과를 %s개, 배는%s개 먹었다' % ('one','two'))\n",
    "\n",
    "\n",
    "num1 = 1\n",
    "num2 = 2\n",
    "strl = 'one'\n",
    "str2 = 'two'\n",
    "print('사과를 %d개, 배는%d개 먹었다'  % (num1,num2))\n",
    "print('사과를 %s개, 배는%s개 먹었다'  % (strl,str2))"
   ]
  },
  {
   "attachments": {
    "image.png": {
     "image/png": "[encoded data removed]"
    }
   },
   "cell_type": "markdown",
   "metadata": {},
   "source": [
    "#### 문자열 포맷 코드(%d, %s)\n",
    "|코드|설명|\n",
    "|---|---|\n",
    "|%s|문자열|\n",
    "|%d|정수|\n",
    "|%f|실수|\n",
    "![](attachment:image.png)"
   ]
  },
  {
   "cell_type": "code",
   "execution_count": 67,
   "metadata": {},
   "outputs": [
    {
     "name": "stdout",
     "output_type": "stream",
     "text": [
      "        hijane\n",
      "10\n",
      "hi     jane\n"
     ]
    }
   ],
   "source": [
    "# 포맷 코드와 숫자 함께 사용하기 \n",
    "# 1) 졍렬과 공백\n",
    "# 오른쪽 정렬\n",
    "#hi들어가는 공간 10자로 만들어라 => 공백 8자\n",
    "print('%10sjane' %'hi')\n",
    "# len : 문자열의 길이\n",
    "print(len('%10s' %'hi'))\n",
    "# 마이너스 => 왼쪽정렬\n",
    "print('%-7sjane' %'hi')"
   ]
  },
  {
   "cell_type": "code",
   "execution_count": null,
   "metadata": {},
   "outputs": [
    {
     "name": "stdout",
     "output_type": "stream",
     "text": [
      "3.421343\n",
      "3.421342\n",
      "11113.4213\n",
      "    3.4213\n",
      "10\n"
     ]
    }
   ],
   "source": [
    "#소수점 표현\n",
    "# 디폴트로 소수점 6번째 자리까지만 출력된다 \n",
    "print('%f' % 3.42134264)\n",
    "print('%f' % 3.42134234)\n",
    "# %0.4f\n",
    "# 4: 소수점 자리수, 0: 정수부 다 받겠다.\n",
    "print('%0.4f' % 11113.42134234)\n",
    "print('%10.4f' % 3.42134234)\n",
    "# %10 => 전체 자리수 10이다.\n",
    "print(len('%10.4f' % 3.42134234))"
   ]
  },
  {
   "cell_type": "markdown",
   "metadata": {},
   "source": [
    "### 문자열 관련 메소드\n",
    "1. count(찾을문자열=>일반적으로 단어) : 문자열에서 찾을 문자열의 개수 반환 메소드\n"
   ]
  },
  {
   "cell_type": "code",
   "execution_count": 75,
   "metadata": {},
   "outputs": [
    {
     "name": "stdout",
     "output_type": "stream",
     "text": [
      "2\n",
      "1\n"
     ]
    }
   ],
   "source": [
    "a = 'hobby'\n",
    "print(a.count('b'))\n",
    "print(a.count('bb'))"
   ]
  },
  {
   "cell_type": "code",
   "execution_count": 78,
   "metadata": {},
   "outputs": [
    {
     "name": "stdout",
     "output_type": "stream",
     "text": [
      "10\n",
      "10\n",
      "-1\n"
     ]
    },
    {
     "ename": "ValueError",
     "evalue": "substring not found",
     "output_type": "error",
     "traceback": [
      "\u001b[1;31m---------------------------------------------------------------------------\u001b[0m",
      "\u001b[1;31mValueError\u001b[0m                                Traceback (most recent call last)",
      "Cell \u001b[1;32mIn[78], line 8\u001b[0m\n\u001b[0;32m      6\u001b[0m \u001b[38;5;28mprint\u001b[39m(a\u001b[38;5;241m.\u001b[39mfind(\u001b[38;5;124m'\u001b[39m\u001b[38;5;124mk\u001b[39m\u001b[38;5;124m'\u001b[39m))\n\u001b[0;32m      7\u001b[0m \u001b[38;5;66;03m#인덱스 메소드는 없는 문자열을 찾을 경우 에러 발생 -> 예외처리 필요 \u001b[39;00m\n\u001b[1;32m----> 8\u001b[0m \u001b[38;5;28mprint\u001b[39m(\u001b[43ma\u001b[49m\u001b[38;5;241;43m.\u001b[39;49m\u001b[43mindex\u001b[49m\u001b[43m(\u001b[49m\u001b[38;5;124;43m'\u001b[39;49m\u001b[38;5;124;43mk\u001b[39;49m\u001b[38;5;124;43m'\u001b[39;49m\u001b[43m)\u001b[49m)\n",
      "\u001b[1;31mValueError\u001b[0m: substring not found"
     ]
    }
   ],
   "source": [
    "# 2. 찾을 문자열의 시작 인덱스 반환(find , index)\n",
    "a = 'python is best choice'\n",
    "print(a.find('b'))\n",
    "print(a.find('best'))\n",
    "#없는 값을 찾을 경우 -1을 반환한다\n",
    "print(a.find('k'))\n",
    "#인덱스 메소드는 없는 문자열을 찾을 경우 에러 발생 -> 예외처리 필요 \n",
    "print(a.index('k'))\n"
   ]
  },
  {
   "cell_type": "code",
   "execution_count": null,
   "metadata": {},
   "outputs": [
    {
     "name": "stdout",
     "output_type": "stream",
     "text": [
      "b,b,b,b\n"
     ]
    }
   ],
   "source": [
    "# join(연결x , 삽입o) method \n",
    "a = ','\n",
    "b = 'bbbb'\n",
    "# 삽입 당할 b는 여러개여야 한다.\n",
    "print(a.join(b)) # a를 b의 사이사이에 삽입해라\n",
    "#b를 a에다가 삽입해 => a가 하나밖에 없으므로 삽입 불가 , 최소 2개 있어야 중간에 삽입 가능\n",
    "print(b.join(a)) # b를 a의 사이사이에 삽입해라\n"
   ]
  },
  {
   "cell_type": "code",
   "execution_count": 82,
   "metadata": {},
   "outputs": [
    {
     "name": "stdout",
     "output_type": "stream",
     "text": [
      "HI\n",
      "hi\n",
      "HI\n",
      "hi\n"
     ]
    }
   ],
   "source": [
    "# upper(소>대) , lower (대>소)\n",
    "a = 'hi'\n",
    "print(a.upper()) # 소문자 받는 놈 => 복사로 받는다.\n",
    "print(a) # 원래 a값은 계속 소문자 , 안바뀐다\n",
    "#원래 a(원본)값은 바뀌지 않음 \n",
    "\n",
    "#원본값을 대문자 변경된 값으로 출력하고 싶을 때\n",
    "a = a.upper() # 대문자로 변경된 값을 다시 a에게 준다.\n",
    "print(a)\n",
    "print(a.lower())"
   ]
  },
  {
   "cell_type": "code",
   "execution_count": 10,
   "metadata": {},
   "outputs": [
    {
     "name": "stdout",
     "output_type": "stream",
     "text": [
      "문자길이:  6\n",
      "  hi문자길이: 4\n",
      "hi  문자길이: 4\n",
      "hi문자길이: 2\n"
     ]
    }
   ],
   "source": [
    "# 양쪽 공백 지우기 : 중간에 있는 공백은 삭제 안된다 \n",
    "# lstrip() : left\n",
    "# rstrip() : right\n",
    "# strip() : left,right\n",
    "a = '  hi  '\n",
    "print('문자길이: ',len(a))\n",
    "#오른쪽 공백이 지워짐 \n",
    "b = a.rstrip()\n",
    "print(b + '문자길이: ' + str(len(b)))\n",
    "c = a.lstrip()\n",
    "print(c + '문자길이: ' + str(len(c)))\n",
    "d = a.strip()\n",
    "print(d + '문자길이: ' + str(len(d)))"
   ]
  },
  {
   "cell_type": "markdown",
   "metadata": {},
   "source": [
    "## 2025.02.14 (금)"
   ]
  },
  {
   "cell_type": "code",
   "execution_count": 7,
   "metadata": {},
   "outputs": [
    {
     "name": "stdout",
     "output_type": "stream",
     "text": [
      "사과를 1개, 배 3개를 먹었다\n",
      "사과를 1개, 배 3개를 먹었다\n",
      "사과를 five개 먹었다\n"
     ]
    }
   ],
   "source": [
    "# 문자열 object 생성 -> self 생성 -> 메소드(Format) 사용 가능 \n",
    "a = '사과를 {0}개, 배 {1}개를 먹었다'\n",
    "\n",
    "# a.format()\n",
    "print(a.format(1,3))\n",
    "\n",
    "#\n",
    "num1 = 1\n",
    "num2 = 3\n",
    "print(a.format(num1,num2))\n",
    "\n",
    "# % 메소드는 뒤에 d나 s붙여야 함\n",
    "# format 메소드는 필요없음 => 더 편리\n",
    "a = '사과를 {0}개 먹었다'\n",
    "print(a.format('five'))"
   ]
  },
  {
   "cell_type": "code",
   "execution_count": null,
   "metadata": {},
   "outputs": [
    {
     "name": "stdout",
     "output_type": "stream",
     "text": [
      "I ate 1 apples, so i was sick for threedays\n"
     ]
    }
   ],
   "source": [
    "# 2개 이상의 값 넣기\n",
    "number = 1\n",
    "day = 'three'\n",
    "\n",
    "str_ = 'I ate {0} apples, so i was sick for {1}days'\n",
    "\n",
    "print(str_.format(number,day))\n",
    "\n",
    "\n"
   ]
  },
  {
   "cell_type": "code",
   "execution_count": 16,
   "metadata": {},
   "outputs": [
    {
     "name": "stdout",
     "output_type": "stream",
     "text": [
      "I ate 1 apples, so i was sick for 3days\n"
     ]
    }
   ],
   "source": [
    "# 변수명(이름)으로 값 넣기\n",
    "\n",
    "# number = 1  => error\n",
    "# day = 'three'\n",
    "\n",
    "#여기서 {number}/{day}는 그냥 문자열 \n",
    "str_ = 'I ate {number} apples, so i was sick for {day}days'\n",
    "\n",
    "#print 할 때 대입된다.\n",
    "# print(str_.format(number,day)) => error\n",
    "\n",
    "#올바른 방식 => 초기화해서 호출해야 한다\n",
    "print(str_.format(number=1,day=3))\n"
   ]
  },
  {
   "cell_type": "code",
   "execution_count": null,
   "metadata": {},
   "outputs": [
    {
     "name": "stdout",
     "output_type": "stream",
     "text": [
      "I ate 1 apples, so i was sick for threedays\n"
     ]
    }
   ],
   "source": [
    "# f-string 방식으로 변수명(이름)으로 값 넣기\n",
    "\n",
    "number = 1  \n",
    "day = 'three'\n",
    "\n",
    "# f-string 방식으로 하면 값을 바로 대입 할 수 있다 => 편리 !!\n",
    "print(f'I ate {number} apples, so i was sick for {day}days')\n"
   ]
  }
 ],
 "metadata": {
  "kernelspec": {
   "display_name": "Python 3",
   "language": "python",
   "name": "python3"
  },
  "language_info": {
   "codemirror_mode": {
    "name": "ipython",
    "version": 3
   },
   "file_extension": ".py",
   "mimetype": "text/x-python",
   "name": "python",
   "nbconvert_exporter": "python",
   "pygments_lexer": "ipython3",
   "version": "3.10.16"
  }
 },
 "nbformat": 4,
 "nbformat_minor": 2
}
