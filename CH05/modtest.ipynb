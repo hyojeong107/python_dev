{
 "cells": [
  {
   "cell_type": "markdown",
   "metadata": {},
   "source": [
    "## 2025.02.20(목)"
   ]
  },
  {
   "cell_type": "code",
   "execution_count": null,
   "metadata": {},
   "outputs": [
    {
     "data": {
      "text/plain": [
       "['c:\\\\Users\\\\TJ\\\\.conda\\\\envs\\\\firstenv\\\\python310.zip',\n",
       " 'c:\\\\Users\\\\TJ\\\\.conda\\\\envs\\\\firstenv\\\\DLLs',\n",
       " 'c:\\\\Users\\\\TJ\\\\.conda\\\\envs\\\\firstenv\\\\lib',\n",
       " 'c:\\\\Users\\\\TJ\\\\.conda\\\\envs\\\\firstenv',\n",
       " '',\n",
       " 'c:\\\\Users\\\\TJ\\\\.conda\\\\envs\\\\firstenv\\\\lib\\\\site-packages',\n",
       " 'c:\\\\Users\\\\TJ\\\\.conda\\\\envs\\\\firstenv\\\\lib\\\\site-packages\\\\win32',\n",
       " 'c:\\\\Users\\\\TJ\\\\.conda\\\\envs\\\\firstenv\\\\lib\\\\site-packages\\\\win32\\\\lib',\n",
       " 'c:\\\\Users\\\\TJ\\\\.conda\\\\envs\\\\firstenv\\\\lib\\\\site-packages\\\\Pythonwin']"
      ]
     },
     "execution_count": 1,
     "metadata": {},
     "output_type": "execute_result"
    }
   ],
   "source": [
    "# 라이브러리 관리하는 환경변수 값들을 확인\n",
    "import sys\n",
    "\n",
    "sys.path\n",
    "\n",
    "# 절대경로 잘 안씀, 상대경로 더 많이씀  \n",
    "# sys.path.append('C:\\\\big19\\\\python_dev\\\\CH05')"
   ]
  }
 ],
 "metadata": {
  "kernelspec": {
   "display_name": "Python 3",
   "language": "python",
   "name": "python3"
  },
  "language_info": {
   "codemirror_mode": {
    "name": "ipython",
    "version": 3
   },
   "file_extension": ".py",
   "mimetype": "text/x-python",
   "name": "python",
   "nbconvert_exporter": "python",
   "pygments_lexer": "ipython3",
   "version": "3.10.16"
  }
 },
 "nbformat": 4,
 "nbformat_minor": 2
}
