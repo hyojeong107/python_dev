{
 "cells": [
  {
   "cell_type": "markdown",
   "metadata": {},
   "source": [
    "## 2025.02.25(화)"
   ]
  },
  {
   "cell_type": "code",
   "execution_count": null,
   "metadata": {},
   "outputs": [],
   "source": [
    "# match method \n",
    "import re\n",
    "\n",
    "# 패턴생성: compile() function = > return patter object\n",
    "p_str = '[a-z]+' # 소문자 1개 이상 \n",
    "pat = re.compile(p_str)\n",
    "\n",
    "str_ = '3 python' #매칭할 문자열 \n",
    "\n",
    "\n"
   ]
  }
 ],
 "metadata": {
  "kernelspec": {
   "display_name": "Python 3",
   "language": "python",
   "name": "python3"
  },
  "language_info": {
   "name": "python",
   "version": "3.10.16"
  }
 },
 "nbformat": 4,
 "nbformat_minor": 2
}
