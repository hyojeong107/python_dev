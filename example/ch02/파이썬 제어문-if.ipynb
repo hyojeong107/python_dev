{
 "cells": [
  {
   "cell_type": "markdown",
   "metadata": {},
   "source": [
    "## 2025.02.17(월)"
   ]
  },
  {
   "cell_type": "markdown",
   "metadata": {},
   "source": [
    "#### 조건문 (if)\n",
    "\n",
    "* 요건 시작 \"돈이 있으면 택시를 타고, 없으면 걸어간다.\""
   ]
  },
  {
   "cell_type": "code",
   "execution_count": null,
   "metadata": {},
   "outputs": [
    {
     "name": "stdout",
     "output_type": "stream",
     "text": [
      "택시타라\n"
     ]
    }
   ],
   "source": [
    "money =1\n",
    "\n",
    "# 값이 0이 아니면 자동으로 true라고 생각 \n",
    "if money: #true\n",
    "    print('택시타라')\n",
    "else:\n",
    "    print('걸어가라')"
   ]
  },
  {
   "cell_type": "code",
   "execution_count": 2,
   "metadata": {},
   "outputs": [
    {
     "name": "stdout",
     "output_type": "stream",
     "text": [
      "택시 타라\n"
     ]
    }
   ],
   "source": [
    "# 택시 탈 돈이 있는지 여부 확인\n",
    "# 4800원보다 많아야 택시 탄다\n",
    "\n",
    "money = 4900\n",
    "if money >= 4800:\n",
    "    print('택시 타라')\n",
    "else:\n",
    "    print('걸어가라')"
   ]
  },
  {
   "cell_type": "code",
   "execution_count": 3,
   "metadata": {},
   "outputs": [
    {
     "name": "stdout",
     "output_type": "stream",
     "text": [
      "택시타라\n"
     ]
    }
   ],
   "source": [
    "# 요건\n",
    "# 현금이 4800원 이상이거나, 카드가 있으면 택시 타라\n",
    "# 아니면 걸어가라 출력 \n",
    "\n",
    "money = 3000\n",
    "card = 1\n",
    "\n",
    "if money >= 4800 or card:\n",
    "    print('택시타라')\n",
    "else:\n",
    "    print('걸어가라')"
   ]
  },
  {
   "cell_type": "code",
   "execution_count": 4,
   "metadata": {},
   "outputs": [
    {
     "name": "stdout",
     "output_type": "stream",
     "text": [
      "택시타라\n"
     ]
    }
   ],
   "source": [
    "# 요건\n",
    "# 주머니 안에 현금(money) 있으면 택시 타고 없으면 걸어가라 \n",
    "pocket = ['paper','phone','money'] # iterable\n",
    "\n",
    "# in 연산자, not in 연산자\n",
    "if 'money' in pocket:\n",
    "    print('택시타라')\n",
    "else:\n",
    "    print('걸어가라')"
   ]
  },
  {
   "cell_type": "code",
   "execution_count": 5,
   "metadata": {},
   "outputs": [
    {
     "name": "stdout",
     "output_type": "stream",
     "text": [
      "택시타라\n"
     ]
    }
   ],
   "source": [
    "#요건\n",
    "#주머니에 돈이 있으면 택시를 타고,\n",
    "#주머니에 돈이 없지만 카드가 있으면 택시 타라\n",
    "#주머니에 돈도 없고, 카드도 없으면 걸어가라\n",
    "\n",
    "pocket = ['paper','phone'] \n",
    "card = 1\n",
    "if 'money' in pocket:\n",
    "    print('택시타라')\n",
    "elif card:\n",
    "    print('택시타라')\n",
    "else:\n",
    "    print('걸어가라')"
   ]
  }
 ],
 "metadata": {
  "kernelspec": {
   "display_name": "Python 3",
   "language": "python",
   "name": "python3"
  },
  "language_info": {
   "codemirror_mode": {
    "name": "ipython",
    "version": 3
   },
   "file_extension": ".py",
   "mimetype": "text/x-python",
   "name": "python",
   "nbconvert_exporter": "python",
   "pygments_lexer": "ipython3",
   "version": "3.10.16"
  }
 },
 "nbformat": 4,
 "nbformat_minor": 2
}
