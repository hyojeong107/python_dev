{
 "cells": [
  {
   "cell_type": "markdown",
   "metadata": {},
   "source": [
    "## 2025.02.24 (월)"
   ]
  },
  {
   "cell_type": "markdown",
   "metadata": {},
   "source": [
    "#### 딕셔너리 타입: 키 - value"
   ]
  },
  {
   "cell_type": "code",
   "execution_count": 1,
   "metadata": {},
   "outputs": [
    {
     "data": {
      "text/plain": [
       "dict"
      ]
     },
     "execution_count": 1,
     "metadata": {},
     "output_type": "execute_result"
    }
   ],
   "source": [
    "# 딕셔너리 생성 \n",
    "dict_ = {} #빈 딕셔너리 생성 \n",
    "type(dict_)\n"
   ]
  },
  {
   "cell_type": "code",
   "execution_count": 2,
   "metadata": {},
   "outputs": [
    {
     "name": "stdout",
     "output_type": "stream",
     "text": [
      "{'name': 'pey', 'phone': '01012345678', 'birth': '1181'}\n"
     ]
    }
   ],
   "source": [
    "# \n",
    "dic = {\n",
    "    'name':'pey',\n",
    "    'phone':'01012345678',\n",
    "    'birth':'1181'\n",
    "}\n",
    "print(dic)"
   ]
  },
  {
   "cell_type": "code",
   "execution_count": 3,
   "metadata": {},
   "outputs": [
    {
     "name": "stdout",
     "output_type": "stream",
     "text": [
      "홍길동\n",
      "홍길동\n"
     ]
    }
   ],
   "source": [
    "# 쌍(키:값)\n",
    "# 키의 값은 아무거나 된다.\n",
    "# a = {0 : '홍길동'}\n",
    "a = ['홍길동'] #리스트 \n",
    "print(a[0])\n",
    "a = {'name':'홍길동'}\n",
    "print(a.get('name'))"
   ]
  },
  {
   "cell_type": "code",
   "execution_count": 4,
   "metadata": {},
   "outputs": [
    {
     "name": "stdout",
     "output_type": "stream",
     "text": [
      "{'a': [1, 2, 3]}\n",
      "[1, 2, 3]\n"
     ]
    }
   ],
   "source": [
    "# value에 리스트(여러개 값) 가능\n",
    "a = {'a':[1,2,3]}\n",
    "print(a)\n",
    "print(a.get('a'))"
   ]
  },
  {
   "cell_type": "code",
   "execution_count": 8,
   "metadata": {},
   "outputs": [
    {
     "name": "stdout",
     "output_type": "stream",
     "text": [
      "{1: 'a'}\n",
      "{1: 'a', 2: 'b'}\n",
      "{1: 'a', 2: 'b', 'name': '홍길동'}\n",
      "{1: 'a', 2: 'b', 'name': '홍길동', 3: [1, 2, 3]}\n"
     ]
    }
   ],
   "source": [
    "# 데이터 추가 (쌍으로 추가)\n",
    "a = {1:'a'}\n",
    "print(a)\n",
    "\n",
    "#추가 : a[2 <-키] = 'b' <- 값\n",
    "a[2] = 'b'\n",
    "print(a)\n",
    "\n",
    "#추가\n",
    "a['name'] = '홍길동'\n",
    "print(a)\n",
    "\n",
    "#값으로 여러개 추가 \n",
    "a[3] = [1,2,3]\n",
    "print(a)"
   ]
  },
  {
   "cell_type": "code",
   "execution_count": 9,
   "metadata": {},
   "outputs": [
    {
     "name": "stdout",
     "output_type": "stream",
     "text": [
      "{1: 'a', 2: 'b', 'name': '홍길동', 3: [1, 2, 3]}\n",
      "{2: 'b', 'name': '홍길동', 3: [1, 2, 3]}\n"
     ]
    }
   ],
   "source": [
    "# 삭제 : 메소드 사용한다 \n",
    "print(a)\n",
    "# 1이라는 키로 삭제\n",
    "del a[1] \n",
    "print(a)"
   ]
  },
  {
   "cell_type": "code",
   "execution_count": 10,
   "metadata": {},
   "outputs": [
    {
     "name": "stdout",
     "output_type": "stream",
     "text": [
      "{'pey': 10, 'julliet': 99}\n",
      "10\n"
     ]
    }
   ],
   "source": [
    "# 딕셔너리 사용 \n",
    "grade = {\n",
    "    'pey' : 10,\n",
    "    'julliet' : 99\n",
    "}\n",
    "print(grade)\n",
    "# pey 점수 추출\n",
    "print(grade['pey'])"
   ]
  },
  {
   "cell_type": "code",
   "execution_count": 12,
   "metadata": {},
   "outputs": [
    {
     "name": "stdout",
     "output_type": "stream",
     "text": [
      "{1: 'a'}\n",
      "{1: 'b'}\n",
      "{1: 'b', (1, 2): 'c'}\n",
      "b\n",
      "c\n"
     ]
    }
   ],
   "source": [
    "# 딕셔너리 처리시 주의 사항\n",
    "# 키 중복 안된다.\n",
    "a = {1:'a'}\n",
    "print(a)\n",
    "a[1] = 'b' #추가 : 키가 동일할 경우 기존 값이 수정된다.\n",
    "print(a)\n",
    "\n",
    "# 키의 값은 여러개가 될 수 없다: 키의 값은 단일값이어야 한다.\n",
    "# a[[1,2]] = 'c' #error\n",
    "a[(1,2)] = 'c'\n",
    "print(a)\n",
    "print(a[1])\n",
    "print(a[(1,2)])"
   ]
  },
  {
   "cell_type": "code",
   "execution_count": 13,
   "metadata": {},
   "outputs": [
    {
     "name": "stdout",
     "output_type": "stream",
     "text": [
      "{'name': 'pey', 'phone': '01012345678', 'birth': '1007'}\n",
      "dict_keys(['name', 'phone', 'birth'])\n",
      "<class 'dict_keys'>\n"
     ]
    }
   ],
   "source": [
    "# 딕셔너리 관련 메소드들 \n",
    "# 1. 키들만 추출하는 메소드 \n",
    "a = {\n",
    "    'name':'pey',\n",
    "    'phone':'01012345678',\n",
    "    'birth':'1007'\n",
    "}\n",
    "print(a)\n",
    "print(a.keys())\n",
    "print(type(a.keys()))"
   ]
  },
  {
   "cell_type": "code",
   "execution_count": 14,
   "metadata": {},
   "outputs": [
    {
     "name": "stdout",
     "output_type": "stream",
     "text": [
      "name\n",
      "phone\n",
      "birth\n"
     ]
    }
   ],
   "source": [
    "for key in a.keys():\n",
    "    print(key)"
   ]
  },
  {
   "cell_type": "code",
   "execution_count": 15,
   "metadata": {},
   "outputs": [
    {
     "name": "stdout",
     "output_type": "stream",
     "text": [
      "{'name': 'pey', 'phone': '01012345678', 'birth': '1007'}\n",
      "dict_values(['pey', '01012345678', '1007'])\n"
     ]
    }
   ],
   "source": [
    "# 2.values 추출\n",
    "print(a)\n",
    "print(a.values())"
   ]
  },
  {
   "cell_type": "code",
   "execution_count": 16,
   "metadata": {},
   "outputs": [
    {
     "name": "stdout",
     "output_type": "stream",
     "text": [
      "{'name': 'pey', 'phone': '01012345678', 'birth': '1007'}\n",
      "dict_items([('name', 'pey'), ('phone', '01012345678'), ('birth', '1007')])\n"
     ]
    }
   ],
   "source": [
    "# 키, 값 쌍으로 추출 \n",
    "print(a)\n",
    "print(a.items())"
   ]
  },
  {
   "cell_type": "code",
   "execution_count": 17,
   "metadata": {},
   "outputs": [
    {
     "name": "stdout",
     "output_type": "stream",
     "text": [
      "None\n",
      "{}\n"
     ]
    }
   ],
   "source": [
    "# 모두 지우기 : clear() => 빈 딕셔너리가 남는다 \n",
    "print(a.clear())\n",
    "print(a)"
   ]
  },
  {
   "cell_type": "code",
   "execution_count": null,
   "metadata": {},
   "outputs": [
    {
     "name": "stdout",
     "output_type": "stream",
     "text": [
      "{'name': 'pey', 'phone': '01025951131', 'birth': '1007'}\n",
      "pey\n",
      "None\n",
      "키가 없다\n"
     ]
    }
   ],
   "source": [
    "# 키 값으로 value 추출 : get(key)\n",
    "a = {\n",
    "    'name':'pey',\n",
    "    'phone':'01025951131',\n",
    "    'birth':'1007'\n",
    "}\n",
    "\n",
    "print(a)\n",
    "print(a.get('name'))\n",
    "print(a.get('aaa'))\n",
    "# get(key, default)처럼 두 번째 인자를 설정하면, 키가 없을 때 기본값을 반환할 수 있어\n",
    "print(a.get('aaa','키가 없다')) "
   ]
  },
  {
   "cell_type": "code",
   "execution_count": 19,
   "metadata": {},
   "outputs": [
    {
     "name": "stdout",
     "output_type": "stream",
     "text": [
      "{'name': 'pey', 'phone': '01025951131', 'birth': '1007'}\n",
      "True\n",
      "False\n"
     ]
    }
   ],
   "source": [
    "# 해당 키가 딕셔너리 안에 있는지 조사: in 연산자 \n",
    "# 방식 : 값 in iterable(반복가능한 객체) => bool (True,False)\n",
    "print(a)\n",
    "print('name' in a) # a 안에 키중에 'name' 키가 있니?\n",
    "print('email' in a)"
   ]
  }
 ],
 "metadata": {
  "kernelspec": {
   "display_name": "Python 3",
   "language": "python",
   "name": "python3"
  },
  "language_info": {
   "codemirror_mode": {
    "name": "ipython",
    "version": 3
   },
   "file_extension": ".py",
   "mimetype": "text/x-python",
   "name": "python",
   "nbconvert_exporter": "python",
   "pygments_lexer": "ipython3",
   "version": "3.10.16"
  }
 },
 "nbformat": 4,
 "nbformat_minor": 2
}
