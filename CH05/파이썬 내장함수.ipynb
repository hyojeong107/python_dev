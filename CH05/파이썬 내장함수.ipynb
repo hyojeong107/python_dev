{
 "cells": [
  {
   "cell_type": "markdown",
   "metadata": {},
   "source": [
    "## 2025.02.21(금)"
   ]
  },
  {
   "cell_type": "code",
   "execution_count": 3,
   "metadata": {},
   "outputs": [
    {
     "name": "stdout",
     "output_type": "stream",
     "text": [
      "홍길동 고길동 둘리 0 홍길동1 고길동2 둘리"
     ]
    }
   ],
   "source": [
    "# enumerate function\n",
    "for name in ['홍길동','고길동','둘리']:\n",
    "    print(name, end=' ')\n",
    "    \n",
    "for idx,name in enumerate(['홍길동','고길동','둘리']):\n",
    "\n",
    "    print(idx,name,end='')"
   ]
  },
  {
   "cell_type": "code",
   "execution_count": 4,
   "metadata": {},
   "outputs": [],
   "source": [
    "# filter function\n",
    "# 요건 :  양수 추출\n",
    "def positive(list_):\n",
    "    # 결과 저장 빈 리스트\n",
    "    result = []\n",
    "    for number in list_:\n",
    "        if number > 0: #양수이면\n",
    "            result.append(number)\n",
    "            \n",
    "    return result"
   ]
  },
  {
   "cell_type": "code",
   "execution_count": 5,
   "metadata": {},
   "outputs": [
    {
     "data": {
      "text/plain": [
       "[1, 2, 6]"
      ]
     },
     "execution_count": 5,
     "metadata": {},
     "output_type": "execute_result"
    }
   ],
   "source": [
    "positive([1,-3,2,0,-5,6])"
   ]
  },
  {
   "cell_type": "code",
   "execution_count": 6,
   "metadata": {},
   "outputs": [],
   "source": [
    "def positive(number): # 단일값 입력 \n",
    "    return number > 0 #비교연산자 사용 => boolean(True , False)/ 값을 반환x"
   ]
  },
  {
   "cell_type": "code",
   "execution_count": 8,
   "metadata": {},
   "outputs": [
    {
     "data": {
      "text/plain": [
       "[1, 2, 6]"
      ]
     },
     "execution_count": 8,
     "metadata": {},
     "output_type": "execute_result"
    }
   ],
   "source": [
    "#filter(function , iterable) -> iterable\n",
    "# function : 단일값 입력 , boolean return\n",
    "# filter(positive,[1,-3,2,0,-5,6]) => filter object가 나온다\n",
    "list(filter(positive,[1,-3,2,0,-5,6])) "
   ]
  },
  {
   "cell_type": "code",
   "execution_count": null,
   "metadata": {},
   "outputs": [],
   "source": [
    "def positive(number): # 간단하다 => lambda 키워드: 간단한 함수 생성하는 키워드 \n",
    "    return number > 0\n",
    "\n",
    "list(filter(positive, [1,-2,3]))"
   ]
  },
  {
   "cell_type": "code",
   "execution_count": 9,
   "metadata": {},
   "outputs": [
    {
     "data": {
      "text/plain": [
       "[1, 2, 6]"
      ]
     },
     "execution_count": 9,
     "metadata": {},
     "output_type": "execute_result"
    }
   ],
   "source": [
    "# lambda : 익명의 함수 생성, 익명(이름이 없다=> 한번 쓰고 말거라서,일회성)\n",
    "# 문법- lambda 아규먼트 : 식\n",
    "\n",
    "# def positive(number):  \n",
    "#     return number > 0\n",
    "\n",
    "#lambda number : number > 0\n",
    "\n",
    "list(filter(lambda number:number>0, [1,-3,2,0,-5,6])) \n",
    "\n"
   ]
  },
  {
   "cell_type": "code",
   "execution_count": 10,
   "metadata": {},
   "outputs": [],
   "source": [
    "# lambda를 사용해야 할 때(=def를 사용하지 못할 때)\n",
    "\n",
    "def sum(a,b):\n",
    "    return a+b\n"
   ]
  },
  {
   "cell_type": "code",
   "execution_count": 14,
   "metadata": {},
   "outputs": [],
   "source": [
    "myList = [sum(1,2), sum(3,4)]\n",
    "myList\n",
    "\n",
    "def mul(a,b):\n",
    "    return a * b"
   ]
  },
  {
   "cell_type": "code",
   "execution_count": null,
   "metadata": {},
   "outputs": [
    {
     "name": "stdout",
     "output_type": "stream",
     "text": [
      "3\n",
      "2\n"
     ]
    }
   ],
   "source": [
    "# myList = [def sum(a,b), def mul(a,b)]\n",
    "# myList[0](1,2)\n",
    "myList = [lambda a,b:a+b, lambda a,b:a*b]\n",
    "print(myList[0](1,2)) #[0] => lambda a,b:a+b 함수의 인덱스\n",
    "print(myList[1](1,2)) #[1] => lambda a,b:a*b \n"
   ]
  },
  {
   "cell_type": "code",
   "execution_count": 20,
   "metadata": {},
   "outputs": [
    {
     "name": "stdout",
     "output_type": "stream",
     "text": [
      "[2, 4, 6, 8]\n"
     ]
    }
   ],
   "source": [
    "# iterable 받아서 2를 곱한 리스트 반환 \n",
    "# 1. map을 적용하지 않고 \n",
    "# iterable을 받아서 곱하기를 한 결과 반환하는 함수\n",
    "def two_times(numberList):\n",
    "    result = []\n",
    "    for number in numberList:\n",
    "        result.append(number * 2)\n",
    "    return result\n",
    "\n",
    "print (two_times([1,2,3,4]))"
   ]
  },
  {
   "cell_type": "code",
   "execution_count": 23,
   "metadata": {},
   "outputs": [
    {
     "data": {
      "text/plain": [
       "[2, 4, 6, 8]"
      ]
     },
     "execution_count": 23,
     "metadata": {},
     "output_type": "execute_result"
    }
   ],
   "source": [
    "# map function 적용\n",
    "def two_times(number):\n",
    "    return number * 2\n",
    "\n",
    "list(map(two_times, [1,2,3,4]))"
   ]
  },
  {
   "cell_type": "code",
   "execution_count": null,
   "metadata": {},
   "outputs": [
    {
     "data": {
      "text/plain": [
       "[2, 4, 6, 8]"
      ]
     },
     "execution_count": 24,
     "metadata": {},
     "output_type": "execute_result"
    }
   ],
   "source": [
    "# map , lambda 적용\n",
    "\n",
    "list(map(lambda number : number*2,[1,2,3,4]))"
   ]
  },
  {
   "cell_type": "code",
   "execution_count": null,
   "metadata": {},
   "outputs": [
    {
     "name": "stdout",
     "output_type": "stream",
     "text": [
      "[1, 2, 3]\n",
      "[3, 2, 1]\n"
     ]
    }
   ],
   "source": [
    "# sorted (오름차순 정렬해서 리스트 반환)\n",
    "print(sorted([3,1,2]))\n",
    "\n",
    "# 내림차순 정렬\n",
    "print(sorted([3,1,2])[::-1]) # [start:end:step]  -1은 뒷방향에서부터 가져와라 (sort를 한 상태에서 뒷방향에서부터 가져와라)"
   ]
  },
  {
   "cell_type": "code",
   "execution_count": 27,
   "metadata": {},
   "outputs": [
    {
     "data": {
      "text/plain": [
       "[('홍', 100), ('고', 90), ('둘', 20)]"
      ]
     },
     "execution_count": 27,
     "metadata": {},
     "output_type": "execute_result"
    }
   ],
   "source": [
    "name = ['홍','고','둘']\n",
    "scores = [100,90,20]\n",
    "\n",
    "list(zip(name,scores))"
   ]
  }
 ],
 "metadata": {
  "kernelspec": {
   "display_name": "Python 3",
   "language": "python",
   "name": "python3"
  },
  "language_info": {
   "codemirror_mode": {
    "name": "ipython",
    "version": 3
   },
   "file_extension": ".py",
   "mimetype": "text/x-python",
   "name": "python",
   "nbconvert_exporter": "python",
   "pygments_lexer": "ipython3",
   "version": "3.10.16"
  }
 },
 "nbformat": 4,
 "nbformat_minor": 2
}
