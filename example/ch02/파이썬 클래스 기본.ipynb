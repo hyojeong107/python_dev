{
 "cells": [
  {
   "cell_type": "code",
   "execution_count": 1,
   "metadata": {},
   "outputs": [],
   "source": [
    "# 프로그래머라는 class 선언\n",
    "class programmer: #아무것도 없다\n",
    "    pass "
   ]
  },
  {
   "cell_type": "code",
   "execution_count": 2,
   "metadata": {},
   "outputs": [
    {
     "name": "stdout",
     "output_type": "stream",
     "text": [
      "2473182327712 2473182317920\n"
     ]
    }
   ],
   "source": [
    "# object 생성\n",
    "kim = programmer() # programmer 라는 class를 new를 안쓰고 기본생성자: ()를 써서 오브젝트 생성(오브젝트명:kim)\n",
    "park = programmer()\n",
    "print(id(kim),id(park)) # id(object명) : 오브젝트의 주소 반환"
   ]
  },
  {
   "cell_type": "code",
   "execution_count": 4,
   "metadata": {},
   "outputs": [
    {
     "name": "stdout",
     "output_type": "stream",
     "text": [
      "hong\n"
     ]
    },
    {
     "ename": "AttributeError",
     "evalue": "'programmer' object has no attribute 'name'",
     "output_type": "error",
     "traceback": [
      "\u001b[1;31m---------------------------------------------------------------------------\u001b[0m",
      "\u001b[1;31mAttributeError\u001b[0m                            Traceback (most recent call last)",
      "Cell \u001b[1;32mIn[4], line 6\u001b[0m\n\u001b[0;32m      3\u001b[0m \u001b[38;5;28mprint\u001b[39m(kim\u001b[38;5;241m.\u001b[39mname)\n\u001b[0;32m      5\u001b[0m \u001b[38;5;66;03m# park.name은 대입한게 없으므로 name 없다 \u001b[39;00m\n\u001b[1;32m----> 6\u001b[0m \u001b[38;5;28mprint\u001b[39m(\u001b[43mpark\u001b[49m\u001b[38;5;241;43m.\u001b[39;49m\u001b[43mname\u001b[49m)\n",
      "\u001b[1;31mAttributeError\u001b[0m: 'programmer' object has no attribute 'name'"
     ]
    }
   ],
   "source": [
    "# 생성된 object에 변수 추가 : 동적 할당 \n",
    "kim.name = 'hong'\n",
    "print(kim.name)\n",
    "\n",
    "# park.name은 대입한게 없으므로 name 없다 \n",
    "print(park.name)"
   ]
  },
  {
   "cell_type": "code",
   "execution_count": 5,
   "metadata": {},
   "outputs": [],
   "source": [
    "# service 라는 class 생성 \n",
    "class service:\n",
    "    secret = '영구는 외계인이다' # => class 변수 : secret"
   ]
  },
  {
   "cell_type": "code",
   "execution_count": 6,
   "metadata": {},
   "outputs": [],
   "source": [
    "# object 생성\n",
    "\n",
    "# 객체 1. pay\n",
    "pay = service()\n",
    "\n",
    "# 객체 2.kim\n",
    "kim = service()"
   ]
  },
  {
   "cell_type": "code",
   "execution_count": 7,
   "metadata": {},
   "outputs": [
    {
     "name": "stdout",
     "output_type": "stream",
     "text": [
      "영구는 외계인이다\n",
      "영구는 외계인이다\n",
      "영구는 외계인이다\n"
     ]
    }
   ],
   "source": [
    "# class 변수는 object들끼리 공유 가능하다 \n",
    "print(pay.secret) # 자바에서 이 문장의 문법 => : pay.getsecret()\n",
    "\n",
    "print(kim.secret)\n",
    "\n",
    "# 일반적으로 접근 할 때 많이 사용하는 방식 => class 이름으로 접근\n",
    "print(service.secret)"
   ]
  },
  {
   "cell_type": "code",
   "execution_count": 8,
   "metadata": {},
   "outputs": [
    {
     "name": "stdout",
     "output_type": "stream",
     "text": [
      "영구는 바보이다\n",
      "영구는 바보이다\n",
      "영구는 바보이다\n"
     ]
    }
   ],
   "source": [
    "# secret 변수 => service라는 class의 변수 : 직접 get/set이 된다.\n",
    "service.secret = '영구는 바보이다' # set하기\n",
    "\n",
    "print(pay.secret)\n",
    "print(kim.secret)\n",
    "print(service.secret)\n"
   ]
  },
  {
   "cell_type": "code",
   "execution_count": 1,
   "metadata": {},
   "outputs": [],
   "source": [
    "# 메소드 \n",
    "\n",
    "class service:\n",
    "    secret = '영구는 외계인이다'\n",
    "    \n",
    "# 클래스의 메소드 선언 : static method\n",
    "def sum (a,b):\n",
    "    result = a+b\n",
    "    return f'클래스의 메소드 결과 {a}+{b}={result}이다.'\n",
    "\n",
    "# 멤버 메소드 선언(오브젝트의 메소드)\n",
    "def mem(self, a,b):\n",
    "    result = a+b\n",
    "    return f'오브젝트 메소드 결과{a}+{b}={result}이다.'"
   ]
  },
  {
   "cell_type": "code",
   "execution_count": null,
   "metadata": {},
   "outputs": [],
   "source": [
    "pay = service()\n",
    "\n",
    "print(pay.mem(1,1))\n",
    "\n",
    "print(service.sum(1,1))\n",
    "\n",
    "print(pay.sum(1,1))  # ==> error\n",
    "\n",
    "print(service.mem(pay, 1,1)) # pay가 self의 값 가지고 있기 때문에 pay값을 넣어주면 접근 할 수 있다."
   ]
  },
  {
   "cell_type": "code",
   "execution_count": 2,
   "metadata": {},
   "outputs": [],
   "source": [
    "# name: 멤버 변수 선언 \n",
    "class service:\n",
    "    secret = '영구는 외계인이다.'\n",
    "    \n",
    "    #메소드에 self 주는 이유: object에 접근하기 위해서\n",
    "    # name: 받아서 오브젝트에 대입\n",
    "    def setName(self, name):\n",
    "        self.name = name\n",
    "        \n",
    "    def sum(self, a,b):\n",
    "        result = a+b\n",
    "        return f'{self.name}님 {a}+{b}={result}입니다'"
   ]
  },
  {
   "cell_type": "code",
   "execution_count": 3,
   "metadata": {},
   "outputs": [
    {
     "name": "stdout",
     "output_type": "stream",
     "text": [
      "고길동\n"
     ]
    },
    {
     "data": {
      "text/plain": [
       "'고길동님 1+1=2입니다'"
      ]
     },
     "execution_count": 3,
     "metadata": {},
     "output_type": "execute_result"
    }
   ],
   "source": [
    "pay = service()\n",
    "\n",
    "#값을 대입 할 때 변수가 생성된다(self.name)\n",
    "pay.setName('홍길동') #self.name이 생성된다. 멤버 변수는 메소드 안에서만 생성 가능하다=> 따라서 메소드 setName에서 생성\n",
    "\n",
    "pay.name = '고길동' \n",
    "print(pay.name)\n",
    "pay.sum(1,1)\n"
   ]
  },
  {
   "cell_type": "code",
   "execution_count": 4,
   "metadata": {},
   "outputs": [
    {
     "name": "stdout",
     "output_type": "stream",
     "text": [
      "김철수\n",
      "박응용\n"
     ]
    }
   ],
   "source": [
    "kim = service()\n",
    "kim.name = '김철수'\n",
    "print(kim.name)\n",
    "\n",
    "park = service()\n",
    "park.name = '박응용'\n",
    "print(park.name)"
   ]
  },
  {
   "cell_type": "code",
   "execution_count": 6,
   "metadata": {},
   "outputs": [],
   "source": [
    "# 생성자 : __init__() => name 변수 생성, 초기화\n",
    "\n",
    "class service:\n",
    "    secret = '영구는 외계인이다'\n",
    "    \n",
    "    def __init__(self,name):\n",
    "        self.name=name\n",
    "        \n",
    "    def sum(self, a,b):\n",
    "        result = a+b\n",
    "        return f'{self.name}님 {a}+{b}={result}입니다'\n",
    "        "
   ]
  },
  {
   "cell_type": "code",
   "execution_count": 8,
   "metadata": {},
   "outputs": [],
   "source": [
    "hong = service('홍길동')"
   ]
  },
  {
   "cell_type": "code",
   "execution_count": null,
   "metadata": {},
   "outputs": [
    {
     "name": "stdout",
     "output_type": "stream",
     "text": [
      "홍길동\n"
     ]
    }
   ],
   "source": [
    "print(hong.name)"
   ]
  },
  {
   "cell_type": "code",
   "execution_count": 10,
   "metadata": {},
   "outputs": [
    {
     "name": "stdout",
     "output_type": "stream",
     "text": [
      "홍길동님 3+4=7입니다\n"
     ]
    }
   ],
   "source": [
    "print(hong.sum(3,4))"
   ]
  },
  {
   "cell_type": "code",
   "execution_count": 11,
   "metadata": {},
   "outputs": [],
   "source": [
    "# 박씨네 집 class : 성은 다 박 \n",
    "class HousePark:\n",
    "    lastName = '박' # class 변수 => 공유\n",
    "    # 이름은 상이: 멤버 변수로 처리해야 한다.\n",
    "    \n",
    "    def setName(self,name):\n",
    "        self.fullName = HousePark.lastName+name\n",
    "        #self.fullName = self.lastName+name\n",
    "        "
   ]
  },
  {
   "cell_type": "code",
   "execution_count": 12,
   "metadata": {},
   "outputs": [
    {
     "name": "stdout",
     "output_type": "stream",
     "text": [
      "박길동\n"
     ]
    }
   ],
   "source": [
    "OB = HousePark()\n",
    "OB.setName('길동')\n",
    "print(OB.fullName)"
   ]
  },
  {
   "cell_type": "code",
   "execution_count": 13,
   "metadata": {},
   "outputs": [],
   "source": [
    "class HousePark:\n",
    "    lastName = '박'\n",
    "    \n",
    "    def setName(self, name):\n",
    "        self.fullName = HousePark.lastName + name\n",
    "        \n",
    "    def travel(self, where): #where이 필요, 이름 필요 \n",
    "        return f'{self.fullName},{where} 여행을 가다'"
   ]
  },
  {
   "cell_type": "code",
   "execution_count": 15,
   "metadata": {},
   "outputs": [
    {
     "name": "stdout",
     "output_type": "stream",
     "text": [
      "박길동,울릉도 여행을 가다\n",
      "박길동,부산 여행을 가다\n",
      "박길동,영국 여행을 가다\n"
     ]
    }
   ],
   "source": [
    "gildong = HousePark()\n",
    "gildong.setName('길동')\n",
    "print(gildong.travel('울릉도'))\n",
    "print(gildong.travel('부산'))\n",
    "print(gildong.travel('영국'))"
   ]
  },
  {
   "cell_type": "code",
   "execution_count": 16,
   "metadata": {},
   "outputs": [],
   "source": [
    "# 생성자 필요\n",
    "class HousePark:\n",
    "    lastName = '박'\n",
    "    \n",
    "    def __init__(self, name):\n",
    "        self.fullName = self.lastName + name # => self.lastName 때문에 김씨로 바꿀 수 있다\n",
    "        \n",
    "    def travel(self, where):\n",
    "        return f'{self.fullName}, {where}여행을 가다.' "
   ]
  },
  {
   "cell_type": "code",
   "execution_count": 17,
   "metadata": {},
   "outputs": [
    {
     "name": "stdout",
     "output_type": "stream",
     "text": [
      "박길동\n",
      "박길동, 하와이여행을 가다.\n"
     ]
    }
   ],
   "source": [
    "Obj = HousePark('길동')\n",
    "print(Obj.fullName)\n",
    "print(Obj.travel('하와이'))"
   ]
  },
  {
   "cell_type": "code",
   "execution_count": 18,
   "metadata": {},
   "outputs": [],
   "source": [
    "# 상속\n",
    "# 김씨네 집\n",
    "class HouseKim(HousePark):\n",
    "    pass"
   ]
  },
  {
   "cell_type": "code",
   "execution_count": 20,
   "metadata": {},
   "outputs": [
    {
     "name": "stdout",
     "output_type": "stream",
     "text": [
      "박민지\n"
     ]
    }
   ],
   "source": [
    "\n",
    "aaa = HouseKim('민지')\n",
    "print(aaa.fullName)"
   ]
  },
  {
   "cell_type": "code",
   "execution_count": 21,
   "metadata": {},
   "outputs": [
    {
     "name": "stdout",
     "output_type": "stream",
     "text": [
      "박aaa\n",
      "박aaa, 제주도여행을 가다.\n"
     ]
    }
   ],
   "source": [
    "# 상속\n",
    "# 김씨네 집\n",
    "\n",
    "aaa = HouseKim('aaa')\n",
    "print(aaa.fullName)\n",
    "print(aaa.travel('제주도'))"
   ]
  },
  {
   "cell_type": "code",
   "execution_count": 26,
   "metadata": {},
   "outputs": [],
   "source": [
    "# 오버라이딩 : 상속받은 메소드를 수정해서 사용하겠다 \n",
    "\n",
    "class HouseKim(HousePark):\n",
    "    # HousePark의 변수 오버라이딩\n",
    "    lastName = '김'\n",
    "    \n",
    "    def __init__(self, name):\n",
    "        super().__init__(name)\n",
    "    \n",
    "    # HousePark의 메소드 오버라이딩\n",
    "    def travel(self, where):\n",
    "        return f'{self.fullName}은 {where}로 소풍을 갑니다.'"
   ]
  },
  {
   "cell_type": "code",
   "execution_count": 28,
   "metadata": {},
   "outputs": [
    {
     "data": {
      "text/plain": [
       "'김길동은 경주로 소풍을 갑니다.'"
      ]
     },
     "execution_count": 28,
     "metadata": {},
     "output_type": "execute_result"
    }
   ],
   "source": [
    "gildong = HouseKim('길동')\n",
    "gildong.travel('경주')"
   ]
  }
 ],
 "metadata": {
  "kernelspec": {
   "display_name": "Python 3",
   "language": "python",
   "name": "python3"
  },
  "language_info": {
   "codemirror_mode": {
    "name": "ipython",
    "version": 3
   },
   "file_extension": ".py",
   "mimetype": "text/x-python",
   "name": "python",
   "nbconvert_exporter": "python",
   "pygments_lexer": "ipython3",
   "version": "3.10.16"
  }
 },
 "nbformat": 4,
 "nbformat_minor": 2
}
