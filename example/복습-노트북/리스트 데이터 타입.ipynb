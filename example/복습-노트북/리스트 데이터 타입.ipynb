{
 "cells": [
  {
   "cell_type": "markdown",
   "metadata": {},
   "source": [
    "#### 2025.03.12(수) - 복습\n",
    "\n",
    "List 데이터 타입 \n",
    "- 1. 여러개 저장\n",
    "- 2. 하나로 묶는다.\n",
    "\n",
    "인덱싱 \n",
    "- 단일값 처리"
   ]
  },
  {
   "cell_type": "code",
   "execution_count": 1,
   "metadata": {},
   "outputs": [
    {
     "name": "stdout",
     "output_type": "stream",
     "text": [
      "[1, 2, 3]\n"
     ]
    }
   ],
   "source": [
    "a = [1,2,3]\n",
    "print(a)"
   ]
  },
  {
   "cell_type": "code",
   "execution_count": 2,
   "metadata": {},
   "outputs": [
    {
     "name": "stdout",
     "output_type": "stream",
     "text": [
      "1\n",
      "3\n",
      "3\n"
     ]
    }
   ],
   "source": [
    "# [1,2,3] 리스트에서 1값을 추출\n",
    "print(a[0])\n",
    "\n",
    "# 3 추출\n",
    "print(a[2])\n",
    "print(a[-1])"
   ]
  },
  {
   "cell_type": "code",
   "execution_count": null,
   "metadata": {},
   "outputs": [
    {
     "data": {
      "text/plain": [
       "[1, 2, 3, ['a', 'b', 'c']]"
      ]
     },
     "execution_count": 3,
     "metadata": {},
     "output_type": "execute_result"
    }
   ],
   "source": [
    "# 리스트 안에 리스트 넣을 수 있다.\n",
    "a = [1,2,3,['a','b','c']]\n",
    "a"
   ]
  },
  {
   "cell_type": "code",
   "execution_count": 5,
   "metadata": {},
   "outputs": [
    {
     "name": "stdout",
     "output_type": "stream",
     "text": [
      "['a', 'b', 'c']\n",
      "['a', 'b', 'c']\n",
      "b\n",
      "b\n"
     ]
    }
   ],
   "source": [
    "a = [1,2,3,['a','b','c']]\n",
    "print(a[3]) # return: ['a', 'b', 'c']\n",
    "print(a[-1]) # return: ['a', 'b', 'c']\n",
    "\n",
    "# b 추출 \n",
    "print(a[3][1])\n",
    "print(a[-1][1])"
   ]
  },
  {
   "cell_type": "code",
   "execution_count": 7,
   "metadata": {},
   "outputs": [
    {
     "name": "stdout",
     "output_type": "stream",
     "text": [
      "[1, 2]\n",
      "[1, 2]\n"
     ]
    }
   ],
   "source": [
    "# 슬라이싱 : 여러개 추출 => 리스트 반환 \n",
    "# [start : end -1 ]\n",
    "\n",
    "a = [1,2,3,4,5]\n",
    "\n",
    "# [1,2] 반환\n",
    "print(a[0:2])\n",
    "print(a[:2])"
   ]
  },
  {
   "cell_type": "code",
   "execution_count": 11,
   "metadata": {},
   "outputs": [
    {
     "name": "stdout",
     "output_type": "stream",
     "text": [
      "['a', 'b']\n",
      "['a', 'b']\n"
     ]
    }
   ],
   "source": [
    "# 중첩된 리스트(리스트 안에 리스트 있는 것) 슬라이싱\n",
    "a =[1,2,3,['a','b','c'],4,5]\n",
    "\n",
    "# ['a','b'] 추출\n",
    "print(a[3][0:2])\n",
    "print(a[3][:2])"
   ]
  },
  {
   "cell_type": "code",
   "execution_count": 14,
   "metadata": {},
   "outputs": [
    {
     "name": "stdout",
     "output_type": "stream",
     "text": [
      "[1, 2, 4]\n",
      "[1, ['a', 'b', 'c'], 4]\n",
      "[1, 'a', 'b', 'c', 4]\n"
     ]
    }
   ],
   "source": [
    "# 리스트 수정(변경,삭제)\n",
    "\n",
    "# 1.리스트에서 하나의 값(단일값)을 변경 => 인덱싱 \n",
    "a = [1,2,3]\n",
    "# 3 -> 4로 변경 \n",
    "a[2]=4 # return => [1, 2, 4]\n",
    "print(a)\n",
    "\n",
    "# 2. 리스트에서 여러개 값을 변경 \n",
    "# a = [1,2,3] 에서 2를 ['a','b','c']로 변경\n",
    "a[1]=['a','b','c']\n",
    "print(a)\n",
    "\n",
    "# 슬라이싱 => 리스트가 쪼개져서 들어간다.\n",
    "a[1:2] = ['a','b','c']\n",
    "print(a)"
   ]
  },
  {
   "cell_type": "code",
   "execution_count": 15,
   "metadata": {},
   "outputs": [
    {
     "name": "stdout",
     "output_type": "stream",
     "text": [
      "[1, 'a', 'b', 'c', 4]\n",
      "[1, 'c', 4]\n"
     ]
    }
   ],
   "source": [
    "# 리스트 데이터(요소)삭제\n",
    "a = [1,'a','b','c',4]\n",
    "print(a)\n",
    "a[1:3] = [] # 'a','b' 삭제\n",
    "print(a)"
   ]
  },
  {
   "cell_type": "code",
   "execution_count": null,
   "metadata": {},
   "outputs": [
    {
     "name": "stdout",
     "output_type": "stream",
     "text": [
      "[1, 4]\n"
     ]
    }
   ],
   "source": [
    "# object 삭제 : 함수 => del\n",
    "# 파이썬에서는 모든 데이터(숫자,문자열,리스트,튜플,딕셔너리 등)가 객체다\n",
    "a = [1,'c',4]\n",
    "a\n",
    "del a[1]\n",
    "print(a)"
   ]
  },
  {
   "cell_type": "markdown",
   "metadata": {},
   "source": [
    "---\n",
    "#### 리스트 관련 메소드\n",
    "\n",
    "1. append : 마지막에 추가\n",
    "2. sort : 정렬\n",
    "3. \n",
    "---"
   ]
  },
  {
   "cell_type": "code",
   "execution_count": null,
   "metadata": {},
   "outputs": [
    {
     "name": "stdout",
     "output_type": "stream",
     "text": [
      "[1, 2, 3]\n",
      "[1, 2, 3, 4]\n",
      "[1, 2, 3, 4, [5, 6]]\n"
     ]
    }
   ],
   "source": [
    "# apped : 마지막에 추가\n",
    "a=[1,2,3]\n",
    "print(a)\n",
    "\n",
    "a.append(4)\n",
    "print(a)\n",
    "\n",
    "a.append([5,6]) # 리스트 형태로 추가됨 \n",
    "print(a)"
   ]
  },
  {
   "cell_type": "code",
   "execution_count": 20,
   "metadata": {},
   "outputs": [
    {
     "name": "stdout",
     "output_type": "stream",
     "text": [
      "None\n",
      "[1, 2, 3, 4]\n",
      "None\n",
      "['a', 'b', 'c', 'd']\n"
     ]
    }
   ],
   "source": [
    "# sort : 정렬\n",
    "a = [1,4,2,3]\n",
    "\n",
    "# sort의 return타입: None -> 안에 값 변경 했으므로 리턴이 null 나온다.\n",
    "print(a.sort())\n",
    "print(a)\n",
    "\n",
    "b = ['a','c','d','b']\n",
    "print(b.sort())\n",
    "print(b)"
   ]
  },
  {
   "cell_type": "code",
   "execution_count": 22,
   "metadata": {},
   "outputs": [
    {
     "name": "stdout",
     "output_type": "stream",
     "text": [
      "2\n"
     ]
    }
   ],
   "source": [
    "# index : 리스트 안에 있는 특정 값을 찾아 index를 반환 \n",
    "a =[1,2,3]\n",
    "print(a.index(3)) # 3이라는 값의 인덱스를 찾아라 \n",
    "\n",
    "# print(a.index(6)) => 6값은 없으므로 value error"
   ]
  },
  {
   "cell_type": "code",
   "execution_count": 25,
   "metadata": {},
   "outputs": [
    {
     "name": "stdout",
     "output_type": "stream",
     "text": [
      "None\n",
      "[4, 1, 2, 3]\n",
      "None\n",
      "[4, 1, 2, 5, 3]\n"
     ]
    }
   ],
   "source": [
    "# insert: 특정 위치(index)에 삽입 \n",
    "# append: 마지막에 삽입 \n",
    "# insert(위치(인덱스), 삽입 할 값)\n",
    "a = [1,2,3]\n",
    "print(a.insert(0,4))\n",
    "print(a)\n",
    "\n",
    "print(a.insert(3,5))\n",
    "print(a)"
   ]
  },
  {
   "cell_type": "code",
   "execution_count": 27,
   "metadata": {},
   "outputs": [
    {
     "name": "stdout",
     "output_type": "stream",
     "text": [
      "None\n",
      "[2, 3, 1, 2, 3]\n",
      "None\n",
      "[2, 3, 2, 3]\n"
     ]
    }
   ],
   "source": [
    "# remove : 값을 찾아서 제거, 왼쪽에서부터 찾아서 제거 \n",
    "a = [1,2,3,1,2,3]\n",
    "print(a.remove(1)) # 1제거\n",
    "print(a)\n",
    "\n",
    "print(a.remove(1))\n",
    "print(a)"
   ]
  },
  {
   "cell_type": "code",
   "execution_count": 29,
   "metadata": {},
   "outputs": [
    {
     "name": "stdout",
     "output_type": "stream",
     "text": [
      "3\n",
      "[1, 2]\n",
      "2\n",
      "[1]\n"
     ]
    }
   ],
   "source": [
    "# pop : 1. 마지막에서 꺼내고 삭제\n",
    "a = [1,2,3]\n",
    "print(a.pop()) # 파라미터 없다 \n",
    "print(a)\n",
    "\n",
    "# 2. 특정값을 지정해서 꺼내고 삭제 \n",
    "print(a.pop(1)) # index 꺼내고 삭제\n",
    "print(a)"
   ]
  },
  {
   "cell_type": "code",
   "execution_count": null,
   "metadata": {},
   "outputs": [
    {
     "name": "stdout",
     "output_type": "stream",
     "text": [
      "2\n"
     ]
    }
   ],
   "source": [
    "# count : 특정 값의 개수 세기\n",
    "# count(특정값)\n",
    "a = [1,2,3,1]\n",
    "print(a.count(1)) #1의 개수는 몇개?"
   ]
  },
  {
   "cell_type": "code",
   "execution_count": 34,
   "metadata": {},
   "outputs": [
    {
     "name": "stdout",
     "output_type": "stream",
     "text": [
      "None\n",
      "[1, 2, 3, [4, 5]]\n",
      "None\n",
      "[1, 2, 3, 4, 5]\n",
      "[1, 2, 3, 4, 5]\n"
     ]
    }
   ],
   "source": [
    "# append\n",
    "a = [1,2,3]\n",
    "print(a.append([4,5])) #리스트가 추가됨\n",
    "print(a)\n",
    "\n",
    "a=[1,2,3]\n",
    "print(a.extend([4,5])) #extend : 오브젝트가 추가됨(리스트x)\n",
    "print(a)\n",
    "\n",
    "a = [1,2,3]\n",
    "print(a+[4,5])"
   ]
  }
 ],
 "metadata": {
  "kernelspec": {
   "display_name": "firstenv",
   "language": "python",
   "name": "python3"
  },
  "language_info": {
   "codemirror_mode": {
    "name": "ipython",
    "version": 3
   },
   "file_extension": ".py",
   "mimetype": "text/x-python",
   "name": "python",
   "nbconvert_exporter": "python",
   "pygments_lexer": "ipython3",
   "version": "3.10.16"
  }
 },
 "nbformat": 4,
 "nbformat_minor": 2
}
