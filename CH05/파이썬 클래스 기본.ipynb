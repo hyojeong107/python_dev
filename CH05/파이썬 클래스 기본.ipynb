{
 "cells": [
  {
   "cell_type": "markdown",
   "metadata": {},
   "source": [
    "## 2025.02.19(화)"
   ]
  },
  {
   "cell_type": "code",
   "execution_count": 1,
   "metadata": {},
   "outputs": [],
   "source": [
    "# 프로그래머라는 class 선언\n",
    "class programmer: #아무것도 없다 \n",
    "    pass"
   ]
  },
  {
   "cell_type": "code",
   "execution_count": 2,
   "metadata": {},
   "outputs": [
    {
     "name": "stdout",
     "output_type": "stream",
     "text": [
      "2185231562688 2185231561728\n"
     ]
    }
   ],
   "source": [
    "# object 생성\n",
    "kim = programmer()\n",
    "park = programmer()\n",
    "print(id(kim), id(park)) # id() : object의 주소 반환"
   ]
  },
  {
   "cell_type": "code",
   "execution_count": null,
   "metadata": {},
   "outputs": [],
   "source": [
    "# 생성된 object에 변수 추가: 동적할당 \n",
    "# name 이라는 변수 만들어라 kim이라는 object에 (이미 오브젝트 생성해놓은 상태에서 변수 생성=>동적할당)\n",
    "kim.name = 'hong'\n",
    "print(kim.name)\n",
    "\n",
    "#park.name은 대입한게 없으므로 name 없다.\n",
    "print(park.name) # ==> attribute error\n",
    "# 파이썬에서는 변수를 attribute라고 한다\n",
    "# get/set되는 변수를 attribute라고 한다.\n",
    "# 파이썬에서는 get/set 바로 된다"
   ]
  },
  {
   "cell_type": "code",
   "execution_count": 3,
   "metadata": {},
   "outputs": [],
   "source": [
    "# service 라는 class 생성\n",
    "# 정보 공유 service를 하는 클래스 선언 \n",
    "# 클래스 변수 : 오브젝트들이 공유하기 위한 목적 \n",
    "\n",
    "class service:\n",
    "    secret = '영구는 외계인이다' #self가 없다 => class 변수\n",
    "    "
   ]
  },
  {
   "cell_type": "code",
   "execution_count": 6,
   "metadata": {},
   "outputs": [],
   "source": [
    "# object 생성\n",
    "pay = service()\n",
    "kim = service()"
   ]
  },
  {
   "cell_type": "code",
   "execution_count": null,
   "metadata": {},
   "outputs": [
    {
     "name": "stdout",
     "output_type": "stream",
     "text": [
      "영구는 외계인이다\n",
      "영구는 외계인이다\n",
      "영구는 외계인이다\n"
     ]
    }
   ],
   "source": [
    "# secret 변수는 pay오브젝트와 kim오브젝트 둘 다 공유한다\n",
    "print(pay.secret) # 레퍼런스 변수 접근\n",
    "# pay.getsecret() : 자바에서\n",
    "print(kim.secret) # 레퍼런스 변수 접근 \n",
    "print(service.secret)# class이름으로 접근 # 일반적으로 접근 할 때 이 방식 사용"
   ]
  },
  {
   "cell_type": "code",
   "execution_count": null,
   "metadata": {},
   "outputs": [
    {
     "name": "stdout",
     "output_type": "stream",
     "text": [
      "영구는 도깨비다\n",
      "영구는 도깨비다\n",
      "영구는 도깨비다\n"
     ]
    }
   ],
   "source": [
    "# secret 변수 => service라는 class의 변수 => 직접 get/set이 된다\n",
    "service.secret = '영구는 도깨비다' # set 하는 것 \n",
    "print(pay.secret)\n",
    "print(kim.secret)\n",
    "print(service.secret)\n"
   ]
  },
  {
   "cell_type": "code",
   "execution_count": 18,
   "metadata": {},
   "outputs": [],
   "source": [
    "# 메소드\n",
    "class service:\n",
    "    secret = '영구는 외계인이다'\n",
    "    \n",
    "    #클래스의 메소드 선언 : static method\n",
    "    def sum(a,b): # 두 정수를 받아서 더하기\n",
    "        result = a+b\n",
    "        return f'클래스의 메소드의 결과 {a}+{b}={result}입니다' \n",
    "        \n",
    "    # 멤버메소드 선언(오브젝트의 메소드)    \n",
    "    def sum_(self, a,b): # 두 정수를 받아서 더하기\n",
    "        result = a+b\n",
    "        return f'오브젝트 메소드의 결과 {a}+{b}={result} 입니다.'"
   ]
  },
  {
   "cell_type": "code",
   "execution_count": null,
   "metadata": {},
   "outputs": [
    {
     "name": "stdout",
     "output_type": "stream",
     "text": [
      "오브젝트 메소드의 결과 1+1=2 입니다.\n",
      "클래스의 메소드의 결과 1+1=2입니다\n",
      "오브젝트 메소드의 결과 1+1=2 입니다.\n"
     ]
    }
   ],
   "source": [
    "pay = service()\n",
    "#def sum_(self, a,b):\n",
    "print(pay.sum_(1,1)) # object method \n",
    "\n",
    "#def sum(a,b)\n",
    "print(service.sum(1,1)) # class method\n",
    "#print(pay.sum(1,1)) => error : pay의 self 값이 a자리에 들어감, 첫번째 1은 b자리에 들어가고 두번째 1이 들어갈 자리 x \n",
    "\n",
    "\n",
    "# pay가 self 값을 가지고 있기 때문에 pay값을 넣어주면 접근 할 수 있다.\n",
    "#def sum_(self, a,b):\n",
    "print(service.sum_(pay,1,1))"
   ]
  },
  {
   "cell_type": "markdown",
   "metadata": {},
   "source": [
    "## 점심시간 이후~~\n"
   ]
  },
  {
   "cell_type": "code",
   "execution_count": 22,
   "metadata": {},
   "outputs": [],
   "source": [
    "# name: 고객이름 저장 멤버 변수 선언(메소드 안에서) 사용\n",
    "class service:\n",
    "    secret = '영구는 외계인이다.'\n",
    "    \n",
    "    # 메소드에 self를 주는 이유: object에 접근하기 위해서\n",
    "    # name : 받아서 오브젝트에 대입\n",
    "    def setName(self, name):\n",
    "        # self(object)안에 name 만들어라 \n",
    "        self.name = name\n",
    "        \n",
    "    # 이름님 1+1 = 2입니다\n",
    "    def sum(self,a,b): # self가 필요해서 \n",
    "        result = a+b\n",
    "        return f'{self.name}님 {a}+{b}={result}입니다'"
   ]
  },
  {
   "cell_type": "code",
   "execution_count": null,
   "metadata": {},
   "outputs": [
    {
     "name": "stdout",
     "output_type": "stream",
     "text": [
      "고길동\n"
     ]
    },
    {
     "data": {
      "text/plain": [
       "'고길동님 1+1=2입니다'"
      ]
     },
     "execution_count": 25,
     "metadata": {},
     "output_type": "execute_result"
    }
   ],
   "source": [
    "pay = service()\n",
    "# setName 호출: 호출 안하면 self.name이 실행 안된다.\n",
    "pay.setName('홍길동') # ==> self.name 생성됨 / 멤버 변수는 메소드 안에서만 생성 가능하다 \n",
    "# sum() 호출\n",
    "\n",
    "#name은 public하다. => python의 모든 변수는 public\n",
    "pay.name = '고길동' # setName을 다시 생성 할 필요 없다.\n",
    "print(pay.name) # 꺼내서 출력: get\n",
    "pay.sum(1,1)\n"
   ]
  },
  {
   "cell_type": "code",
   "execution_count": null,
   "metadata": {},
   "outputs": [
    {
     "name": "stdout",
     "output_type": "stream",
     "text": [
      "김철수\n",
      "박응용\n"
     ]
    }
   ],
   "source": [
    "# 멤버 변수를 동적으로 생성 할 수 있다.\n",
    "# => 잘 안씀 \n",
    "# 잘 쓰는 방법: kim.setName('김철수') <= 실행 안하면 name이 없다 \n",
    "# 차이점: 위의 코드 => self.name이 내부에서 생성됨\n",
    "# 지금 코드: class외부(객체에서 바로) 속성 추가\n",
    "kim = service()\n",
    "kim.name = '김철수' #set #kim이 self => kim이 오브젝트의 주소값 가지고 있기 때문에\n",
    "print(kim.name)     # get => print\n",
    "\n",
    "park = service()\n",
    "park.name = '박응용' # set\n",
    "print(park.name)     # get"
   ]
  },
  {
   "cell_type": "code",
   "execution_count": null,
   "metadata": {},
   "outputs": [
    {
     "ename": "AttributeError",
     "evalue": "'service' object has no attribute 'name'",
     "output_type": "error",
     "traceback": [
      "\u001b[1;31m---------------------------------------------------------------------------\u001b[0m",
      "\u001b[1;31mAttributeError\u001b[0m                            Traceback (most recent call last)",
      "Cell \u001b[1;32mIn[29], line 3\u001b[0m\n\u001b[0;32m      1\u001b[0m hong \u001b[38;5;241m=\u001b[39m service()\n\u001b[1;32m----> 3\u001b[0m \u001b[43mhong\u001b[49m\u001b[38;5;241;43m.\u001b[39;49m\u001b[43msum\u001b[49m\u001b[43m(\u001b[49m\u001b[38;5;241;43m1\u001b[39;49m\u001b[43m,\u001b[49m\u001b[38;5;241;43m2\u001b[39;49m\u001b[43m)\u001b[49m\n",
      "Cell \u001b[1;32mIn[22], line 14\u001b[0m, in \u001b[0;36mservice.sum\u001b[1;34m(self, a, b)\u001b[0m\n\u001b[0;32m     12\u001b[0m \u001b[38;5;28;01mdef\u001b[39;00m \u001b[38;5;21msum\u001b[39m(\u001b[38;5;28mself\u001b[39m,a,b): \u001b[38;5;66;03m# self가 필요해서 \u001b[39;00m\n\u001b[0;32m     13\u001b[0m     result \u001b[38;5;241m=\u001b[39m a\u001b[38;5;241m+\u001b[39mb\n\u001b[1;32m---> 14\u001b[0m     \u001b[38;5;28;01mreturn\u001b[39;00m \u001b[38;5;124mf\u001b[39m\u001b[38;5;124m'\u001b[39m\u001b[38;5;132;01m{\u001b[39;00m\u001b[38;5;28mself\u001b[39m\u001b[38;5;241m.\u001b[39mname\u001b[38;5;132;01m}\u001b[39;00m\u001b[38;5;124m님 \u001b[39m\u001b[38;5;132;01m{\u001b[39;00ma\u001b[38;5;132;01m}\u001b[39;00m\u001b[38;5;124m+\u001b[39m\u001b[38;5;132;01m{\u001b[39;00mb\u001b[38;5;132;01m}\u001b[39;00m\u001b[38;5;124m=\u001b[39m\u001b[38;5;132;01m{\u001b[39;00mresult\u001b[38;5;132;01m}\u001b[39;00m\u001b[38;5;124m입니다\u001b[39m\u001b[38;5;124m'\u001b[39m\n",
      "\u001b[1;31mAttributeError\u001b[0m: 'service' object has no attribute 'name'"
     ]
    }
   ],
   "source": [
    "hong = service()\n",
    "\n",
    "hong.sum(1,2) # error => sum하기 전에 반드시 setName을 반드시 실행해야 한다. name이라는 멤버 변수 생성해야 한다 \n"
   ]
  },
  {
   "cell_type": "code",
   "execution_count": null,
   "metadata": {},
   "outputs": [],
   "source": [
    "# 생성자 : __init__() => name 변수 생성, 초기화\n",
    "# 위에서는 메소드 선언, 파라미터로 name 받고 믿에서 메소드 호출해서 값 대입해야\n",
    "# name이 생기는데 여기서는 멤버변수인데도 생성자로 선언& 초기화 한다\n",
    "class service:\n",
    "    secret = '영구는 외계인이다'\n",
    "    \n",
    "    def __init__(self, name): # 메소드다 \n",
    "        self.name = name # name 변수 생성, 초기화\n",
    "        \n",
    "    def sum(self, a,b):\n",
    "        result = a+b\n",
    "        return f'{self .name}님 {a}+{b}={result}'"
   ]
  },
  {
   "cell_type": "code",
   "execution_count": null,
   "metadata": {},
   "outputs": [],
   "source": [
    "# 위에서 __init__() 기본 생성자 선언 했으므로\n",
    "# 메소드 사용하지 않고 바로 이름 대입\n",
    "hong = service('홍길동')"
   ]
  },
  {
   "cell_type": "code",
   "execution_count": 3,
   "metadata": {},
   "outputs": [
    {
     "name": "stdout",
     "output_type": "stream",
     "text": [
      "홍길동\n"
     ]
    }
   ],
   "source": [
    "print(hong.name)"
   ]
  },
  {
   "cell_type": "code",
   "execution_count": 4,
   "metadata": {},
   "outputs": [
    {
     "name": "stdout",
     "output_type": "stream",
     "text": [
      "홍길동님 3+4=7\n"
     ]
    }
   ],
   "source": [
    "# sum(self , a,b)\n",
    "print(hong.sum(3,4))"
   ]
  }
 ],
 "metadata": {
  "kernelspec": {
   "display_name": "Python 3",
   "language": "python",
   "name": "python3"
  },
  "language_info": {
   "codemirror_mode": {
    "name": "ipython",
    "version": 3
   },
   "file_extension": ".py",
   "mimetype": "text/x-python",
   "name": "python",
   "nbconvert_exporter": "python",
   "pygments_lexer": "ipython3",
   "version": "3.10.16"
  }
 },
 "nbformat": 4,
 "nbformat_minor": 2
}
