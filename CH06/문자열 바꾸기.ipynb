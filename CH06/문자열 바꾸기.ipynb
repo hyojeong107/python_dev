{
 "cells": [
  {
   "cell_type": "markdown",
   "metadata": {},
   "source": [
    "## 2025.02.26(수)"
   ]
  },
  {
   "cell_type": "code",
   "execution_count": 5,
   "metadata": {},
   "outputs": [],
   "source": [
    "# sub 메소드의 입력인수 (argument)에 함수 넣기 \n",
    "# sub : 변경\n",
    "\n",
    "# 함수 : 특정 문자열에 있는 정수 찾아서 -> 16진수 변환해서 반환\n",
    "def hexrepl(match): #match한 object 받는 함수다 \n",
    "    '''\n",
    "    특정 문자열에 있는 정수 찾아서 -> 16진수 변환해서 반환\n",
    "    parameter match : match object\n",
    "    '''\n",
    "    value = int(match.group())\n",
    "    return hex(value)\n",
    "\n",
    "\n",
    "    "
   ]
  },
  {
   "cell_type": "code",
   "execution_count": 7,
   "metadata": {},
   "outputs": [
    {
     "data": {
      "text/plain": [
       "'call 0xffd2 for printing, 0xc000 for user code'"
      ]
     },
     "execution_count": 7,
     "metadata": {},
     "output_type": "execute_result"
    }
   ],
   "source": [
    "import re\n",
    "\n",
    "p_str = '\\d+' #패턴 생성 \n",
    "data = 'call 65490 for printing, 49152 for user code'\n",
    "\n",
    "pat = re.compile(p_str)\n",
    "#pat.sub (함수명,데이터)\n",
    "pat.sub(hexrepl, data)\n"
   ]
  },
  {
   "cell_type": "code",
   "execution_count": null,
   "metadata": {},
   "outputs": [],
   "source": []
  }
 ],
 "metadata": {
  "kernelspec": {
   "display_name": "Python 3",
   "language": "python",
   "name": "python3"
  },
  "language_info": {
   "codemirror_mode": {
    "name": "ipython",
    "version": 3
   },
   "file_extension": ".py",
   "mimetype": "text/x-python",
   "name": "python",
   "nbconvert_exporter": "python",
   "pygments_lexer": "ipython3",
   "version": "3.10.16"
  }
 },
 "nbformat": 4,
 "nbformat_minor": 2
}
