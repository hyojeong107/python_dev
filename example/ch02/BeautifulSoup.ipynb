{
 "cells": [
  {
   "cell_type": "markdown",
   "metadata": {},
   "source": [
    "## 2025.02.26(수)"
   ]
  },
  {
   "cell_type": "markdown",
   "metadata": {},
   "source": [
    "##### requests 모듈: 데이터를 문자열(html,json)로 가져오는 것까지만 한다\n",
    "##### BeautifulSoup library 사용해서 가공(검색,추출)"
   ]
  },
  {
   "cell_type": "code",
   "execution_count": null,
   "metadata": {},
   "outputs": [],
   "source": [
    "from bs4 import BeautifulSoup\n",
    "html = \"\"\"\n",
    "<html>\n",
    "    <head><title>테스트 페이지</title></head>\n",
    "    <body>\n",
    "        <h1>안녕하세요!</h1>\n",
    "        <p class=\"content\">이것은 예제 문장입니다.</p>\n",
    "        <a href=\"https://example.com\">예제 링크</a>\n",
    "    </body>\n",
    "</html>\n",
    "\"\"\""
   ]
  }
 ],
 "metadata": {
  "kernelspec": {
   "display_name": "Python 3",
   "language": "python",
   "name": "python3"
  },
  "language_info": {
   "name": "python",
   "version": "3.10.16"
  }
 },
 "nbformat": 4,
 "nbformat_minor": 2
}
