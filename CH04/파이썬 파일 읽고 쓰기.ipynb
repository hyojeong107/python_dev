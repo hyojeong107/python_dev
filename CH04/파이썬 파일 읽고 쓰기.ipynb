{
 "cells": [
  {
   "cell_type": "markdown",
   "metadata": {
    "vscode": {
     "languageId": "plaintext"
    }
   },
   "source": [
    "## 2025.02.18(화)"
   ]
  },
  {
   "cell_type": "code",
   "execution_count": 1,
   "metadata": {},
   "outputs": [
    {
     "data": {
      "text/plain": [
       "<function TextIOWrapper.close()>"
      ]
     },
     "execution_count": 1,
     "metadata": {},
     "output_type": "execute_result"
    }
   ],
   "source": [
    "# 현재 디렉토리에 파일 생성\n",
    "# 1.open(파일명:new.txt,모드:w(쓰기모드))\n",
    "f = open('new.txt','w')\n",
    "# 2.close\n",
    "f.close"
   ]
  },
  {
   "cell_type": "code",
   "execution_count": null,
   "metadata": {},
   "outputs": [],
   "source": [
    "# text file 파일 쓰기 (write mode)\n",
    "# 1.open\n",
    "#f = open(file='new.txt',mode='w') # 키워드 방식\n",
    "f = open('new.txt','w') # positional argument 방식\n",
    "\n",
    "# 2.데이터를 파일에다가 write\n",
    "#data creation\n",
    "for num in range(1,6): # 5번 반복\n",
    "    data = f'{num}번째 줄\\n' # \\n 은 줄바꿈\n",
    "    f.write(data) # 파일에 쓰기\n",
    "    \n",
    "# 3.파일닫기\n",
    "f.close()"
   ]
  },
  {
   "cell_type": "code",
   "execution_count": 10,
   "metadata": {},
   "outputs": [
    {
     "name": "stdout",
     "output_type": "stream",
     "text": [
      "1번째 줄\n",
      "2번째 줄\n",
      "3번째 줄\n",
      "4번째 줄\n",
      "5번째 줄\n"
     ]
    }
   ],
   "source": [
    "# text 파일 read\n",
    "# 1. open\n",
    "#f = open('new1.txt','r') => 파일존재 x error\n",
    "f = open('new.txt','r')\n",
    "\n",
    "# 2. read : 메소드 3개\n",
    "# readline() : 한줄씩 읽기\n",
    "while True:\n",
    "    line = f.readline()\n",
    "    if not line: # 없을 경우 False가 돼서 break가 안먹음\n",
    "        break\n",
    "    print(line,end='')\n",
    "\n",
    "\n",
    "# 3. close\n",
    "f.close()\n",
    "\n",
    "# readlines() : 한줄씩 읽어서 리스트에 저장한걸 반환\n",
    "# read() : 통으로 읽기 => 문자열로 반환된다."
   ]
  },
  {
   "cell_type": "code",
   "execution_count": null,
   "metadata": {},
   "outputs": [
    {
     "name": "stdout",
     "output_type": "stream",
     "text": [
      "['1번째 줄\\n', '2번째 줄\\n', '3번째 줄\\n', '4번째 줄\\n', '5번째 줄\\n']\n",
      "1번째 줄\n",
      "2번째 줄\n",
      "3번째 줄\n",
      "4번째 줄\n",
      "5번째 줄\n"
     ]
    }
   ],
   "source": [
    "# readLines() => 전체읽기, 한줄씩 문자열로 만들어서 리스트에 넣고, 리스트를 반환\n",
    "\n",
    "# 1.open\n",
    "f = open('new.txt','r')\n",
    "# 2.readlines()\n",
    "lines = f.readlines()\n",
    "print(lines)\n",
    "\n",
    "# for문 사용\n",
    "for line in lines:\n",
    "    print(line, end='')\n",
    "    \n",
    "# 3.close\n",
    "f.close()"
   ]
  },
  {
   "cell_type": "code",
   "execution_count": 15,
   "metadata": {},
   "outputs": [
    {
     "data": {
      "text/plain": [
       "['1번째 줄', '2번째 줄', '3번째 줄', '4번째 줄', '5번째 줄', '']"
      ]
     },
     "execution_count": 15,
     "metadata": {},
     "output_type": "execute_result"
    }
   ],
   "source": [
    "# read()\n",
    "f = open('new.txt','r')\n",
    "data = f.read()\n",
    "f.close()\n",
    "data = data.split('\\n')\n",
    "data"
   ]
  },
  {
   "cell_type": "code",
   "execution_count": null,
   "metadata": {},
   "outputs": [
    {
     "name": "stdout",
     "output_type": "stream",
     "text": [
      "['1번째 줄\\n', '2번째 줄\\n', '3번째 줄\\n', '4번째 줄\\n', '5번째 줄\\n']\n"
     ]
    }
   ],
   "source": [
    "with open('new.txt','r') as f: # 자동 close 처리된다\n",
    "    data = f.readlines()\n",
    "    print(data)"
   ]
  },
  {
   "cell_type": "code",
   "execution_count": 1,
   "metadata": {},
   "outputs": [
    {
     "name": "stdout",
     "output_type": "stream",
     "text": [
      "1번째 줄\n",
      "2번째 줄\n",
      "3번째 줄\n",
      "4번째 줄\n",
      "5번째 줄\n",
      "\n"
     ]
    }
   ],
   "source": [
    "# 파일 쓰기 mode : w ,a \n",
    "# a mode : 파일쓰기 추가\n",
    "with open('new.txt','r') as f:\n",
    "    data = f.read()\n",
    "    print(data)"
   ]
  },
  {
   "cell_type": "code",
   "execution_count": null,
   "metadata": {},
   "outputs": [
    {
     "name": "stdout",
     "output_type": "stream",
     "text": [
      "1번째 줄\n",
      "2번째 줄\n",
      "3번째 줄\n",
      "4번째 줄\n",
      "5번째 줄\n",
      "6번째 줄7번째 줄8번째 줄9번째 줄10번째 줄6번째 줄\n",
      "7번째 줄\n",
      "8번째 줄\n",
      "9번째 줄\n",
      "10번째 줄\n",
      "6번째 줄\n",
      "7번째 줄\n",
      "8번째 줄\n",
      "9번째 줄\n",
      "10번째 줄\n",
      "\n"
     ]
    }
   ],
   "source": [
    "# 파일 추가 쓰기 : moda a => 데이터 추가 \n",
    "# with 구문 => 자동 close된다\n",
    "with open('new.txt','a')as f:\n",
    "    for num in range(6,11):\n",
    "        data = f'{num}번째 줄\\n'\n",
    "        f.write(data)\n",
    "        \n",
    "#파일을 읽어서 화면 출력\n",
    "with open('new.txt','r') as f:\n",
    "    datas= f.read()\n",
    "    print(datas)"
   ]
  }
 ],
 "metadata": {
  "kernelspec": {
   "display_name": "Python 3",
   "language": "python",
   "name": "python3"
  },
  "language_info": {
   "codemirror_mode": {
    "name": "ipython",
    "version": 3
   },
   "file_extension": ".py",
   "mimetype": "text/x-python",
   "name": "python",
   "nbconvert_exporter": "python",
   "pygments_lexer": "ipython3",
   "version": "3.10.16"
  }
 },
 "nbformat": 4,
 "nbformat_minor": 2
}
