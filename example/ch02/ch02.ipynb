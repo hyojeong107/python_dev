{
 "cells": [
  {
   "cell_type": "code",
   "execution_count": 1,
   "metadata": {},
   "outputs": [],
   "source": [
    "# 데이터는 한줄이다.\n",
    "mutiline = 'Life is too short \\n you need python'"
   ]
  },
  {
   "cell_type": "code",
   "execution_count": 3,
   "metadata": {},
   "outputs": [
    {
     "name": "stdout",
     "output_type": "stream",
     "text": [
      "Life is too short \n",
      " you need python\n"
     ]
    }
   ],
   "source": [
    "#print 할 때 역슬래시 n이 먹은 것\n",
    "print(mutiline)"
   ]
  },
  {
   "cell_type": "code",
   "execution_count": 8,
   "metadata": {},
   "outputs": [
    {
     "name": "stdout",
     "output_type": "stream",
     "text": [
      "\n",
      "life is too short\n",
      "you need python\n",
      "\n"
     ]
    }
   ],
   "source": [
    "# 여러줄 쓸 때 => '''\n",
    "mutiline = '''\n",
    "life is too short\n",
    "you need python\n",
    "'''\n",
    "\n",
    "print(mutiline)"
   ]
  },
  {
   "cell_type": "code",
   "execution_count": 9,
   "metadata": {},
   "outputs": [
    {
     "name": "stdout",
     "output_type": "stream",
     "text": [
      "life is too short\n",
      "you need python\n"
     ]
    }
   ],
   "source": [
    "mutiline = '''life is too short\n",
    "you need python'''\n",
    "\n",
    "print(mutiline)"
   ]
  },
  {
   "cell_type": "code",
   "execution_count": 10,
   "metadata": {},
   "outputs": [
    {
     "data": {
      "text/plain": [
       "'\\n1.주석\\n2.여러줄 주석\\n3.대입을 안하면 쓰레기 데이터가 된다 => 따라서 주석으로 사용됨\\n\\n'"
      ]
     },
     "execution_count": 10,
     "metadata": {},
     "output_type": "execute_result"
    }
   ],
   "source": [
    "'''\n",
    "1.주석\n",
    "2.여러줄 주석\n",
    "3.대입을 안하면 쓰레기 데이터가 된다 => 따라서 주석으로 사용됨\n",
    "\n",
    "'''"
   ]
  },
  {
   "cell_type": "code",
   "execution_count": 11,
   "metadata": {},
   "outputs": [
    {
     "name": "stdout",
     "output_type": "stream",
     "text": [
      "====================\n",
      "연락처 프로그램\n",
      "====================\n"
     ]
    }
   ],
   "source": [
    "# 곱하기 \n",
    "print('='*20)\n",
    "print('연락처 프로그램')\n",
    "print('='*20)"
   ]
  },
  {
   "cell_type": "code",
   "execution_count": null,
   "metadata": {},
   "outputs": [
    {
     "data": {
      "text/plain": [
       "('e', 's', 'n', 'n', 'h')"
      ]
     },
     "execution_count": 12,
     "metadata": {},
     "output_type": "execute_result"
    }
   ],
   "source": [
    "a = 'life is too short, you need python'\n",
    "\n",
    "# []대괄호 : 리스트\n",
    "a[3], a[12], a[33], a[-1],a[-3]\n",
    "\n",
    "#인덱싱 방식"
   ]
  },
  {
   "cell_type": "code",
   "execution_count": 14,
   "metadata": {},
   "outputs": [
    {
     "name": "stdout",
     "output_type": "stream",
     "text": [
      "20250213\n",
      "Rainy\n"
     ]
    }
   ],
   "source": [
    "# 데이터로 년월일날씨가 입력된다.\n",
    "# 날짜, 날씨 분리 \n",
    "data = '20250213Rainy'\n",
    "\n",
    "date_= data[0:8]\n",
    "print(date_)\n",
    "weather = data[8:]\n",
    "print(weather)"
   ]
  },
  {
   "cell_type": "markdown",
   "metadata": {},
   "source": [
    "##문자열 포매팅 \n",
    "1. % 사용하는 포매팅\n",
    "2. 문자열 객체 => format function 사용하는 포매팅\n",
    "3. f-string 사용하는 포매팅  *제일 많이 사용"
   ]
  },
  {
   "cell_type": "code",
   "execution_count": 20,
   "metadata": {},
   "outputs": [
    {
     "name": "stdout",
     "output_type": "stream",
     "text": [
      "현재 온도는 22도 입니다 \n",
      "현재 온도는 22도 입니다\n",
      "현재 온도는 22도 입니다.\n"
     ]
    }
   ],
   "source": [
    "# 1. $사용\n",
    "a = 22\n",
    "print('현재 온도는 %d도 입니다 ' % a)\n",
    "# 2. format function 사용 => .format()\n",
    "print('현재 온도는 {0}도 입니다'.format(a))\n",
    "# 3. f-string\n",
    "print(f'현재 온도는 {a}도 입니다.')"
   ]
  },
  {
   "cell_type": "code",
   "execution_count": 22,
   "metadata": {},
   "outputs": [
    {
     "name": "stdout",
     "output_type": "stream",
     "text": [
      "사과를 1개, 배를2개 먹었다.\n",
      "사과를 one개, 배를two개 먹었다\n",
      "사과를 1개, 배는2개 먹었다\n",
      "사과를 one개, 배는two개 먹었다\n"
     ]
    }
   ],
   "source": [
    "# 1. %사용\n",
    "# 숫자: d , 문자: s\n",
    "# print() 메소드는 파라미터(문자열) 한개만 받는다.\n",
    "print('사과를 %d개, 배를%d개 먹었다.' %(1,2))\n",
    "print('사과를 %s개, 배를%s개 먹었다' % ('one','two'))\n",
    "\n",
    "num1 = 1\n",
    "num2 = 2\n",
    "str1 = 'one'\n",
    "str2 = 'two'\n",
    "print('사과를 %d개, 배는%d개 먹었다' %(num1,num2))\n",
    "print('사과를 %s개, 배는%s개 먹었다' %(str1,str2))\n",
    "\n"
   ]
  },
  {
   "cell_type": "code",
   "execution_count": 25,
   "metadata": {},
   "outputs": [
    {
     "name": "stdout",
     "output_type": "stream",
     "text": [
      "        hijane\n",
      "10\n",
      "hi     jane\n"
     ]
    }
   ],
   "source": [
    "#포맷 코드와 숫자 함께 사용하기\n",
    "# 1) 정렬과 공백\n",
    "# 오른쪽 정렬\n",
    "# h1 들어가는 공간 10자로 만들어라 => 공백 8자\n",
    "print('%10sjane' %'hi')\n",
    "\n",
    "#len : 문자열의 길이 \n",
    "print(len('%10s' %'hi'))\n",
    "\n",
    "# 왼쪽 정렬\n",
    "print('%-7sjane' %'hi')"
   ]
  },
  {
   "cell_type": "code",
   "execution_count": 27,
   "metadata": {},
   "outputs": [
    {
     "name": "stdout",
     "output_type": "stream",
     "text": [
      "3.421343\n",
      "3.421342\n"
     ]
    }
   ],
   "source": [
    "#소수점 표현\n",
    "#디폴트로 소수점 6번째 자리까지만 출력된다\n",
    "print('%f' % 3.42134264)\n",
    "print('%f' % 3.42134234)"
   ]
  },
  {
   "cell_type": "code",
   "execution_count": 28,
   "metadata": {},
   "outputs": [
    {
     "name": "stdout",
     "output_type": "stream",
     "text": [
      "2\n",
      "1\n"
     ]
    }
   ],
   "source": [
    "a = 'hobby'\n",
    "print(a.count('b'))\n",
    "print(a.count('bb'))"
   ]
  }
 ],
 "metadata": {
  "kernelspec": {
   "display_name": "Python 3",
   "language": "python",
   "name": "python3"
  },
  "language_info": {
   "codemirror_mode": {
    "name": "ipython",
    "version": 3
   },
   "file_extension": ".py",
   "mimetype": "text/x-python",
   "name": "python",
   "nbconvert_exporter": "python",
   "pygments_lexer": "ipython3",
   "version": "3.10.16"
  }
 },
 "nbformat": 4,
 "nbformat_minor": 2
}
