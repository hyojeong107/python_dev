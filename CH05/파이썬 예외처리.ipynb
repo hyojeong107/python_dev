{
 "cells": [
  {
   "cell_type": "markdown",
   "metadata": {},
   "source": [
    "## 2025.02.20(목)"
   ]
  },
  {
   "cell_type": "code",
   "execution_count": 1,
   "metadata": {},
   "outputs": [
    {
     "ename": "FileNotFoundError",
     "evalue": "[Errno 2] No such file or directory: '나없는파일.txt'",
     "output_type": "error",
     "traceback": [
      "\u001b[1;31m---------------------------------------------------------------------------\u001b[0m",
      "\u001b[1;31mFileNotFoundError\u001b[0m                         Traceback (most recent call last)",
      "Cell \u001b[1;32mIn[1], line 3\u001b[0m\n\u001b[0;32m      1\u001b[0m \u001b[38;5;66;03m# 예외 발생 상황 코드\u001b[39;00m\n\u001b[0;32m      2\u001b[0m \u001b[38;5;66;03m# 1.없는 파일을 읽기\u001b[39;00m\n\u001b[1;32m----> 3\u001b[0m f \u001b[38;5;241m=\u001b[39m \u001b[38;5;28;43mopen\u001b[39;49m\u001b[43m(\u001b[49m\u001b[38;5;124;43m'\u001b[39;49m\u001b[38;5;124;43m나없는파일.txt\u001b[39;49m\u001b[38;5;124;43m'\u001b[39;49m\u001b[43m,\u001b[49m\u001b[38;5;124;43m'\u001b[39;49m\u001b[38;5;124;43mr\u001b[39;49m\u001b[38;5;124;43m'\u001b[39;49m\u001b[43m)\u001b[49m\n",
      "File \u001b[1;32mc:\\Users\\TJ\\.conda\\envs\\firstenv\\lib\\site-packages\\IPython\\core\\interactiveshell.py:324\u001b[0m, in \u001b[0;36m_modified_open\u001b[1;34m(file, *args, **kwargs)\u001b[0m\n\u001b[0;32m    317\u001b[0m \u001b[38;5;28;01mif\u001b[39;00m file \u001b[38;5;129;01min\u001b[39;00m {\u001b[38;5;241m0\u001b[39m, \u001b[38;5;241m1\u001b[39m, \u001b[38;5;241m2\u001b[39m}:\n\u001b[0;32m    318\u001b[0m     \u001b[38;5;28;01mraise\u001b[39;00m \u001b[38;5;167;01mValueError\u001b[39;00m(\n\u001b[0;32m    319\u001b[0m         \u001b[38;5;124mf\u001b[39m\u001b[38;5;124m\"\u001b[39m\u001b[38;5;124mIPython won\u001b[39m\u001b[38;5;124m'\u001b[39m\u001b[38;5;124mt let you open fd=\u001b[39m\u001b[38;5;132;01m{\u001b[39;00mfile\u001b[38;5;132;01m}\u001b[39;00m\u001b[38;5;124m by default \u001b[39m\u001b[38;5;124m\"\u001b[39m\n\u001b[0;32m    320\u001b[0m         \u001b[38;5;124m\"\u001b[39m\u001b[38;5;124mas it is likely to crash IPython. If you know what you are doing, \u001b[39m\u001b[38;5;124m\"\u001b[39m\n\u001b[0;32m    321\u001b[0m         \u001b[38;5;124m\"\u001b[39m\u001b[38;5;124myou can use builtins\u001b[39m\u001b[38;5;124m'\u001b[39m\u001b[38;5;124m open.\u001b[39m\u001b[38;5;124m\"\u001b[39m\n\u001b[0;32m    322\u001b[0m     )\n\u001b[1;32m--> 324\u001b[0m \u001b[38;5;28;01mreturn\u001b[39;00m io_open(file, \u001b[38;5;241m*\u001b[39margs, \u001b[38;5;241m*\u001b[39m\u001b[38;5;241m*\u001b[39mkwargs)\n",
      "\u001b[1;31mFileNotFoundError\u001b[0m: [Errno 2] No such file or directory: '나없는파일.txt'"
     ]
    }
   ],
   "source": [
    "# 예외 발생 상황 코드\n",
    "# 1.없는 파일을 읽기\n",
    "f = open('나없는파일.txt','r')"
   ]
  },
  {
   "cell_type": "code",
   "execution_count": 2,
   "metadata": {},
   "outputs": [
    {
     "ename": "ZeroDivisionError",
     "evalue": "division by zero",
     "output_type": "error",
     "traceback": [
      "\u001b[1;31m---------------------------------------------------------------------------\u001b[0m",
      "\u001b[1;31mZeroDivisionError\u001b[0m                         Traceback (most recent call last)",
      "Cell \u001b[1;32mIn[2], line 2\u001b[0m\n\u001b[0;32m      1\u001b[0m \u001b[38;5;66;03m# 0으로 나눌 경우\u001b[39;00m\n\u001b[1;32m----> 2\u001b[0m \u001b[38;5;241;43m4\u001b[39;49m\u001b[38;5;241;43m/\u001b[39;49m\u001b[38;5;241;43m0\u001b[39;49m\n",
      "\u001b[1;31mZeroDivisionError\u001b[0m: division by zero"
     ]
    }
   ],
   "source": [
    "# 0으로 나눌 경우\n",
    "4/0"
   ]
  },
  {
   "cell_type": "code",
   "execution_count": 3,
   "metadata": {},
   "outputs": [
    {
     "ename": "IndexError",
     "evalue": "list index out of range",
     "output_type": "error",
     "traceback": [
      "\u001b[1;31m---------------------------------------------------------------------------\u001b[0m",
      "\u001b[1;31mIndexError\u001b[0m                                Traceback (most recent call last)",
      "Cell \u001b[1;32mIn[3], line 3\u001b[0m\n\u001b[0;32m      1\u001b[0m \u001b[38;5;66;03m# 리스트 인덱스 범위를 벗어나는 경우\u001b[39;00m\n\u001b[0;32m      2\u001b[0m a \u001b[38;5;241m=\u001b[39m [\u001b[38;5;241m1\u001b[39m,\u001b[38;5;241m2\u001b[39m,\u001b[38;5;241m3\u001b[39m]\n\u001b[1;32m----> 3\u001b[0m \u001b[43ma\u001b[49m\u001b[43m[\u001b[49m\u001b[38;5;241;43m6\u001b[39;49m\u001b[43m]\u001b[49m\n",
      "\u001b[1;31mIndexError\u001b[0m: list index out of range"
     ]
    }
   ],
   "source": [
    "# 리스트 인덱스 범위를 벗어나는 경우\n",
    "a = [1,2,3]\n",
    "a[6]"
   ]
  },
  {
   "cell_type": "code",
   "execution_count": 4,
   "metadata": {},
   "outputs": [
    {
     "name": "stdout",
     "output_type": "stream",
     "text": [
      "인덱스 에러 입니다\n",
      "정상종료\n"
     ]
    }
   ],
   "source": [
    "try:\n",
    "    a = [1,2,3]\n",
    "    print(a[6])\n",
    "except IndexError :\n",
    "    print('인덱스 에러 입니다')\n",
    "    \n",
    "print('정상종료')"
   ]
  },
  {
   "cell_type": "code",
   "execution_count": 10,
   "metadata": {},
   "outputs": [
    {
     "name": "stdout",
     "output_type": "stream",
     "text": [
      "인덱스에러입니당~~\n",
      "정상종료\n"
     ]
    }
   ],
   "source": [
    "# FileNotFoundError\n",
    "a = [1,2,3]\n",
    "try:\n",
    "    #NameError: name 'f' is not defined => 대입이 안되기 때문에 f 존재 x \n",
    "    f = open('mod1.py','r')\n",
    "    print(a[7])\n",
    "except FileNotFoundError :\n",
    "    print('파일없음오류')\n",
    "except IndexError:\n",
    "    print('인덱스에러입니당~~')\n",
    "    \n",
    "# 파일이 존재해야 아래 코드 실행 가능 \n",
    "else: #파일이 존재 할 경우 \n",
    "#만약 파일 존재했다면 읽기 처리 코드\n",
    "    f.close()\n",
    "finally: #에러 발생하든 안하든 항상 실행되는 코드\n",
    "    print('정상종료')"
   ]
  },
  {
   "cell_type": "code",
   "execution_count": 11,
   "metadata": {},
   "outputs": [
    {
     "name": "stdout",
     "output_type": "stream",
     "text": [
      "인덱스에러입니당~~\n",
      "list index out of range\n",
      "정상종료\n"
     ]
    }
   ],
   "source": [
    "# FileNotFoundError\n",
    "a = [1,2,3]\n",
    "try:\n",
    "    #NameError: name 'f' is not defined => 대입이 안되기 때문에 f 존재 x \n",
    "    f = open('mod1.py','r')\n",
    "    print(a[7])\n",
    "except FileNotFoundError as e :\n",
    "    print('파일없음오류')\n",
    "    print(e) #에러 메세지가 들어있다\n",
    "except IndexError as e :\n",
    "    print('인덱스에러입니당~~')\n",
    "    print(e) # except가 동시에 2개 실행 될 수 절대 x=> 따라서 변수명 같은 것으로 해도 ㄱㅊ음\n",
    "\n",
    "# 파일이 존재해야 아래 코드 실행 가능 \n",
    "else: #파일이 존재 할 경우 \n",
    "#만약 파일 존재했다면 읽기 처리 코드\n",
    "    f.close()\n",
    "finally: #에러 발생하든 안하든 항상 실행되는 코드\n",
    "    print('정상종료')"
   ]
  },
  {
   "cell_type": "code",
   "execution_count": null,
   "metadata": {},
   "outputs": [],
   "source": [
    "from abc import ABC, abstractmethod\n",
    "\n",
    "class Bird: \n",
    "    @abstractmethod\n",
    "    \n",
    "    def fly(self):\n",
    "        pass\n",
    "        #오버라이딩을 강제로 시킨 것 \n",
    "        #raise NotImplemented\n",
    "        #return '난다'"
   ]
  },
  {
   "cell_type": "code",
   "execution_count": 31,
   "metadata": {},
   "outputs": [],
   "source": [
    "class Eagle(Bird):\n",
    "    def fly(self):\n",
    "        return '빠르게 난다 '\n",
    "\n",
    "class Penguin(Bird):\n",
    "    #파이썬에서의 오버라이딩\n",
    "    def fly(self):\n",
    "        return '펭귄은 못날아!!'"
   ]
  },
  {
   "cell_type": "code",
   "execution_count": 30,
   "metadata": {},
   "outputs": [
    {
     "name": "stdout",
     "output_type": "stream",
     "text": [
      "펭귄은 못날아!!\n"
     ]
    }
   ],
   "source": [
    "\n",
    "a = Penguin()\n",
    "print(a.fly())\n"
   ]
  },
  {
   "cell_type": "code",
   "execution_count": 33,
   "metadata": {},
   "outputs": [
    {
     "name": "stdout",
     "output_type": "stream",
     "text": [
      "빠르게 난다 \n"
     ]
    }
   ],
   "source": [
    "b = Eagle()\n",
    "#b = Penguin()\n",
    "print(b.fly())"
   ]
  },
  {
   "cell_type": "code",
   "execution_count": 35,
   "metadata": {},
   "outputs": [],
   "source": [
    "def fly_test(bird):\n",
    "    print(bird.fly())"
   ]
  },
  {
   "cell_type": "code",
   "execution_count": 36,
   "metadata": {},
   "outputs": [
    {
     "name": "stdout",
     "output_type": "stream",
     "text": [
      "빠르게 난다 \n",
      "펭귄은 못날아!!\n"
     ]
    }
   ],
   "source": [
    "fly_test(Eagle())\n",
    "fly_test(Penguin())\n"
   ]
  },
  {
   "cell_type": "code",
   "execution_count": 37,
   "metadata": {},
   "outputs": [],
   "source": [
    "def fly_test(bird):\n",
    "    print(bird.fly())\n",
    "\n",
    "def print_(func, bird):\n",
    "    print('='*20)\n",
    "    func(bird)\n",
    "    print('='*20)"
   ]
  },
  {
   "cell_type": "code",
   "execution_count": 39,
   "metadata": {},
   "outputs": [
    {
     "name": "stdout",
     "output_type": "stream",
     "text": [
      "====================\n",
      "빠르게 난다 \n",
      "====================\n",
      "====================\n",
      "펭귄은 못날아!!\n",
      "====================\n"
     ]
    }
   ],
   "source": [
    "print_(fly_test,Eagle())\n",
    "print_(fly_test,Penguin())"
   ]
  },
  {
   "cell_type": "code",
   "execution_count": null,
   "metadata": {},
   "outputs": [],
   "source": [
    "# 1.타입 어노테이션: 3.5 버전에 도입\n",
    "# 타입 힌팅\n",
    "# 사람 class: 이름,나이 <= 멤버변수 : self 선언하려면 메소드 사용\n",
    "class Person:\n",
    "    # 멤버 변수\n",
    "    name:str\n",
    "    age:int\n",
    "    \n",
    "    #생성자 초기화\n",
    "    def __init__(self, name:str, age:int) -> None:\n",
    "        self.name = name\n",
    "        self.age = age\n",
    "    \n",
    "     #생성후 변경시 사용\n",
    "    def setName(self, name:str) -> None :\n",
    "        self.name = name\n",
    "        \n",
    "    def setAge(self,age:int) -> None :\n",
    "        self.age = age \n",
    "    "
   ]
  },
  {
   "cell_type": "code",
   "execution_count": null,
   "metadata": {},
   "outputs": [],
   "source": [
    "# 학생 정보 처리 클래스\n",
    "# 3과목(List), 3과목 점수(Tuple), 특성(이름:값, 주소:값) \n",
    "from typing import List, Dict, Tuple\n",
    "\n",
    "class student:\n",
    "    grades:List[str]\n",
    "    info:Dict[str:str]\n",
    "    scores:Tuple[int,int,int]\n",
    "    \n",
    "    def __init__(self)-> None:\n",
    "        self.grades=['국어','영어','수학']\n",
    "        self.info={'name':'홍길동','주소':'서울'}\n",
    "        self.scores=(90,90,90)"
   ]
  },
  {
   "cell_type": "code",
   "execution_count": null,
   "metadata": {},
   "outputs": [],
   "source": [
    "#회사 사원 클래스 : 상사번호(manager), 사원번호(id) \n",
    "from typing import Optional,Union\n",
    "\n",
    "class Employee:\n",
    "    #manager:str #상사번호는 반드시 문자열이여야 한다. NuLL이면 안된다.\n",
    "    manager:Optional[str] #상사번호는 반드시 문자열이여야 한다. NuLL이 가능\n",
    "    id:Union[int,str] # 숫자일수도 있고, 문자열일수도 있다.\n",
    "    \n",
    "    #생성자\n",
    "    def __init__(self,manager:Optional[str],id:Union[int,str])->None:\n",
    "        self.manager = manager\n",
    "        self.id = id"
   ]
  },
  {
   "cell_type": "code",
   "execution_count": 44,
   "metadata": {},
   "outputs": [],
   "source": [
    "# 클래스 데코레이터 (class Decorators)\n",
    "# @classmethod : 클래스의 메소드 선언 \n",
    "\n",
    "class Math:\n",
    "    @staticmethod\n",
    "    def add(a:int,b:int)->int:\n",
    "        return a + b"
   ]
  },
  {
   "cell_type": "code",
   "execution_count": 45,
   "metadata": {},
   "outputs": [
    {
     "data": {
      "text/plain": [
       "2"
      ]
     },
     "execution_count": 45,
     "metadata": {},
     "output_type": "execute_result"
    }
   ],
   "source": [
    "# a = Math()\n",
    "# a.add(1,1) => error : self 값 받으므로 타입에러 \n",
    "\n",
    "Math.add(1,1)"
   ]
  },
  {
   "cell_type": "code",
   "execution_count": 2,
   "metadata": {},
   "outputs": [],
   "source": [
    "#멤버변수 선언 : self\n",
    "# name, age => setName(), setAge() 만들어야 한다.\n",
    "# @property : @getter , @setter , @deleter\n",
    "\n",
    "# 원을 처리하는 클래스 선언 \n",
    "class Circle:\n",
    "    def __init__(self,radius:float)-> None:\n",
    "        self.radius = radius\n",
    "        \n",
    "    @property    \n",
    "    def radius(self) -> float:\n",
    "        return self.radius\n",
    "    \n",
    "    @radius.setter\n",
    "    def radius(self, value:float) -> None:\n",
    "        if value >= 0:\n",
    "            self.radius = value"
   ]
  },
  {
   "cell_type": "code",
   "execution_count": null,
   "metadata": {},
   "outputs": [
    {
     "ename": "",
     "evalue": "",
     "output_type": "error",
     "traceback": [
      "\u001b[1;31m현재 셀 또는 이전 셀에서 코드를 실행하는 동안 Kernel이 충돌했습니다. \n",
      "\u001b[1;31m셀의 코드를 검토하여 가능한 오류 원인을 식별하세요. \n",
      "\u001b[1;31m자세한 내용을 보려면 <a href='https://aka.ms/vscodeJupyterKernelCrash'>여기</a>를 클릭하세요. \n",
      "\u001b[1;31m자세한 내용은 Jupyter <a href='command:jupyter.viewOutput'>로그</a>를 참조하세요."
     ]
    }
   ],
   "source": [
    "Circle = Circle(3)\n",
    "# print(Circle.radius)\n",
    "Circle.radius = 5.0"
   ]
  },
  {
   "cell_type": "code",
   "execution_count": 1,
   "metadata": {},
   "outputs": [],
   "source": [
    "# 오류 만들기\n",
    "class MyError(Exception):\n",
    "    pass"
   ]
  },
  {
   "cell_type": "code",
   "execution_count": 2,
   "metadata": {},
   "outputs": [],
   "source": [
    "# 함수 선언\n",
    "def say_nick(nick):\n",
    "    if nick == '바보':\n",
    "        #Myerror() => new\n",
    "        raise MyError()\n",
    "    print(nick)"
   ]
  },
  {
   "cell_type": "code",
   "execution_count": 5,
   "metadata": {},
   "outputs": [
    {
     "name": "stdout",
     "output_type": "stream",
     "text": [
      "허용안된다\n"
     ]
    }
   ],
   "source": [
    "try:\n",
    "    say_nick('바보')\n",
    "except MyError:\n",
    "    say_nick('허용안된다')"
   ]
  },
  {
   "cell_type": "code",
   "execution_count": 6,
   "metadata": {},
   "outputs": [],
   "source": [
    "class MyError(Exception):\n",
    "    def __init__(self, msg):\n",
    "        self.msg = msg\n",
    "    \n",
    "    # msg 출력 \n",
    "    def __str__(self):\n",
    "        return self.msg"
   ]
  },
  {
   "cell_type": "code",
   "execution_count": 9,
   "metadata": {},
   "outputs": [
    {
     "name": "stdout",
     "output_type": "stream",
     "text": [
      "허용 안된다\n"
     ]
    }
   ],
   "source": [
    "def say_nick(nick):\n",
    "    if nick == '바보':\n",
    "        raise MyError('허용 안된다')\n",
    "    print(nick)\n",
    "try:\n",
    "    say_nick('바보')\n",
    "except MyError as e:\n",
    "    #print(e.__str__())\n",
    "    print(e)"
   ]
  },
  {
   "cell_type": "code",
   "execution_count": null,
   "metadata": {},
   "outputs": [],
   "source": []
  }
 ],
 "metadata": {
  "kernelspec": {
   "display_name": "Python 3",
   "language": "python",
   "name": "python3"
  },
  "language_info": {
   "codemirror_mode": {
    "name": "ipython",
    "version": 3
   },
   "file_extension": ".py",
   "mimetype": "text/x-python",
   "name": "python",
   "nbconvert_exporter": "python",
   "pygments_lexer": "ipython3",
   "version": "3.10.16"
  }
 },
 "nbformat": 4,
 "nbformat_minor": 2
}
