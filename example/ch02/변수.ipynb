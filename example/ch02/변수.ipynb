{
 "cells": [
  {
   "cell_type": "markdown",
   "metadata": {},
   "source": [
    "## 2025.02.17 (월)"
   ]
  },
  {
   "cell_type": "code",
   "execution_count": 1,
   "metadata": {},
   "outputs": [
    {
     "name": "stdout",
     "output_type": "stream",
     "text": [
      "572\n"
     ]
    }
   ],
   "source": [
    "# sys.getrefcount() function : 객체가 현재 몇 개의 변수나 곳에서 참조되고 있는지를 반환하는 함수 \n",
    "import sys\n",
    "print(sys.getrefcount(3))\n",
    "# a=3\n",
    "# print(sys.getrefcount(3))"
   ]
  },
  {
   "cell_type": "code",
   "execution_count": 2,
   "metadata": {},
   "outputs": [
    {
     "name": "stdout",
     "output_type": "stream",
     "text": [
      "558\n"
     ]
    }
   ],
   "source": [
    "from sys import getrefcount\n",
    "print(getrefcount(3))"
   ]
  },
  {
   "cell_type": "code",
   "execution_count": 4,
   "metadata": {},
   "outputs": [
    {
     "name": "stdout",
     "output_type": "stream",
     "text": [
      "python\n",
      "life\n"
     ]
    }
   ],
   "source": [
    "# 변수 만드는 방법 \n",
    "a = 'python'\n",
    "print(a)\n",
    "b = 'life'\n",
    "print(b)"
   ]
  },
  {
   "cell_type": "code",
   "execution_count": 5,
   "metadata": {},
   "outputs": [
    {
     "name": "stdout",
     "output_type": "stream",
     "text": [
      "python life\n"
     ]
    }
   ],
   "source": [
    "a,b = 'python', 'life'\n",
    "print(a,b)"
   ]
  },
  {
   "cell_type": "code",
   "execution_count": null,
   "metadata": {},
   "outputs": [
    {
     "name": "stdout",
     "output_type": "stream",
     "text": [
      "[1, 4, 3] [1, 4, 3]\n"
     ]
    }
   ],
   "source": [
    "# 주의: 리스트에서의 복사 \n",
    "a =[1,2,3] # 원본 데이터\n",
    "b = a # 복사본 데이터가 아니다, 같은 객체를 참조 \n",
    "a[1] = 4\n",
    "print(a,b)"
   ]
  },
  {
   "cell_type": "code",
   "execution_count": 7,
   "metadata": {},
   "outputs": [
    {
     "name": "stdout",
     "output_type": "stream",
     "text": [
      "[1, 2, 3] [1, 4, 3]\n"
     ]
    }
   ],
   "source": [
    "# 복사본 데이터 만드는 코드\n",
    "# 1. [:] 사용하는 방법 \n",
    "a = [1,2,3]\n",
    "b = a[:] #슬라이싱은 복사가 된다 \n",
    "b[1] = 4\n",
    "print(a,b)"
   ]
  },
  {
   "cell_type": "code",
   "execution_count": 8,
   "metadata": {},
   "outputs": [
    {
     "name": "stdout",
     "output_type": "stream",
     "text": [
      "[1, 2, 3] [1, 4, 3]\n"
     ]
    }
   ],
   "source": [
    "# 2. copy모듈 안에 copy()함수 사용하는 방법\n",
    "import copy #copy모듈 사용\n",
    "a = [1,2,3]\n",
    "b = copy.copy(a)\n",
    "b[1]=4\n",
    "print(a,b)"
   ]
  }
 ],
 "metadata": {
  "kernelspec": {
   "display_name": "Python 3",
   "language": "python",
   "name": "python3"
  },
  "language_info": {
   "codemirror_mode": {
    "name": "ipython",
    "version": 3
   },
   "file_extension": ".py",
   "mimetype": "text/x-python",
   "name": "python",
   "nbconvert_exporter": "python",
   "pygments_lexer": "ipython3",
   "version": "3.10.16"
  }
 },
 "nbformat": 4,
 "nbformat_minor": 2
}
