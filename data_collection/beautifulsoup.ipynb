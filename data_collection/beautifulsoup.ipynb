{
 "cells": [
  {
   "cell_type": "code",
   "execution_count": 3,
   "metadata": {},
   "outputs": [
    {
     "name": "stdout",
     "output_type": "stream",
     "text": [
      "title:  <title>테스트 페이지</title>\n",
      "H1태그 : 안녕하세요!\n",
      "p태그:  이것은 예제 문장입니다.\n"
     ]
    }
   ],
   "source": [
    "from bs4 import BeautifulSoup\n",
    "html = \"\"\"\n",
    "<html>\n",
    "    <head><title>테스트 페이지</title></head>\n",
    "    <body>\n",
    "        <h1>안녕하세요!</h1>\n",
    "        <p class=\"content\">이것은 예제 문장입니다.</p>\n",
    "        <a href=\"https://example.com\">예제 링크</a>\n",
    "    </body>\n",
    "</html>\n",
    "\"\"\"\n",
    "\n",
    "# Beautifulsoup object 생성\n",
    "# html 문자열을 파싱을 해야 한다 => DOM tree 생성\n",
    "soup = BeautifulSoup(html, 'html.parser')\n",
    "\n",
    "# 태그 전택자\n",
    "title = soup.title\n",
    "print('title: ',title)\n",
    "h1 = soup.h1.text\n",
    "print('H1태그 :', h1)\n",
    "p = soup.p.text\n",
    "print('p태그: ',p)\n"
   ]
  },
  {
   "cell_type": "code",
   "execution_count": null,
   "metadata": {},
   "outputs": [
    {
     "name": "stdout",
     "output_type": "stream",
     "text": [
      "사과\n",
      "바나나\n",
      "포도\n"
     ]
    }
   ],
   "source": [
    "# 특정 태그로 찾기 \n",
    "# find_all(tag) : 해당 모든 tag를 찾는다 => 리스트로 반환된다.\n",
    "# find(tag) : 찾은 요소 중 첫번째 반환 \n",
    "from bs4 import BeautifulSoup\n",
    "\n",
    "html = \"\"\"\n",
    "<ul>\n",
    "    <li>사과</li>\n",
    "    <li>바나나</li>\n",
    "    <li>포도</li>\n",
    "</ul>\n",
    "\"\"\"\n",
    "\n",
    "soup = BeautifulSoup(html,'html.parser')\n",
    "\n",
    "# li_test = soup.li.text\n",
    "li_test= soup.find_all('li') # 모든 li 태그를 찾아라\n",
    "# print(li_test)\n",
    "\n",
    "li_items= soup.find_all('li') # 모든 li 태그를 찾아라\n",
    "for li_item in li_items:\n",
    "    print(li_item.text)\n"
   ]
  },
  {
   "cell_type": "code",
   "execution_count": 13,
   "metadata": {},
   "outputs": [
    {
     "name": "stdout",
     "output_type": "stream",
     "text": [
      "<class 'bs4.BeautifulSoup'>\n",
      "<class 'str'>\n",
      "이름:  홍길동\n",
      "이름:  홍길동\n",
      "나이:  30세\n",
      "[<p class=\"name\">홍길동</p>, <p class=\"age\">30세</p>]\n",
      "홍길동\n",
      "30세\n"
     ]
    }
   ],
   "source": [
    "# css selector 사용 \n",
    "# select(css selector) : 모두찾기\n",
    "# select_one(css selector) : 하나만 찾기 \n",
    "\n",
    "html = \"\"\"\n",
    "<div class=\"info\">\n",
    "    <p class=\"name\">홍길동</p>\n",
    "    <p class=\"age\">30세</p>\n",
    "</div>\n",
    "\"\"\"\n",
    "\n",
    "soup = BeautifulSoup(html, 'html.parser')\n",
    "print(type(soup))\n",
    "\n",
    "name1 = soup.select_one('.name').text # . -> 클래스 선택자\n",
    "print(type(name1))\n",
    "print('이름: ' , name1)\n",
    "name2 = soup.find('p',class_='name').text\n",
    "print('이름: ' , name2)\n",
    "\n",
    "\n",
    "age = soup.select_one('.age').text\n",
    "print('나이: ', age)\n",
    "\n",
    "# p tag 전체 선택\n",
    "\n",
    "p_tag = soup.select('p') #모든 p tag 선택\n",
    "print(p_tag)\n",
    "print(p_tag[0].text)\n",
    "print(p_tag[1].text)"
   ]
  },
  {
   "cell_type": "code",
   "execution_count": 15,
   "metadata": {},
   "outputs": [
    {
     "name": "stdout",
     "output_type": "stream",
     "text": [
      "['https://example.com/page1', 'https://example.com/page2']\n"
     ]
    }
   ],
   "source": [
    "# 4. 링크(a tag) , 이미지 크롤링 \n",
    "html = \"\"\"\n",
    "<a href=\"https://example.com/page1\">페이지 1</a>\n",
    "<a href=\"https://example.com/page2\">페이지 2</a>\n",
    "\"\"\"\n",
    "\n",
    "soup = BeautifulSoup(html, 'html.parser')\n",
    "\n",
    "links = [a['href'] for a in soup.find_all('a')]\n",
    "print(links)"
   ]
  },
  {
   "cell_type": "code",
   "execution_count": 2,
   "metadata": {},
   "outputs": [
    {
     "name": "stdout",
     "output_type": "stream",
     "text": [
      "['https://example.com/image1.jpg', 'https://example.com/image2.jpg']\n"
     ]
    }
   ],
   "source": [
    "# 이미지의 위치 추출 -> 다운로드 \n",
    "from bs4 import BeautifulSoup \n",
    "html = \"\"\"\n",
    "<img src=\"https://example.com/image1.jpg\" alt=\"이미지 1\">\n",
    "<img src=\"https://example.com/image2.jpg\" alt=\"이미지 2\">\n",
    "\"\"\"\n",
    "\n",
    "soup = BeautifulSoup(html,'html.parser')\n",
    "\n",
    "image_src = [img['src']for img in soup.find_all('img')]\n",
    "print(image_src)"
   ]
  },
  {
   "cell_type": "code",
   "execution_count": 6,
   "metadata": {},
   "outputs": [
    {
     "name": "stdout",
     "output_type": "stream",
     "text": [
      "['이름', '나이']\n",
      "['김철수', '25']\n",
      "['이영희', '30']\n"
     ]
    }
   ],
   "source": [
    "# 테이블 태그\n",
    "\n",
    "html = \"\"\"\n",
    "<table>\n",
    "    <tr>\n",
    "        <th>이름</th><th>나이</th>\n",
    "    </tr>\n",
    "    <tr>\n",
    "        <td>김철수</td><td>25</td>\n",
    "    </tr>\n",
    "    <tr>\n",
    "        <td>이영희</td><td>30</td>\n",
    "    </tr>\n",
    "</table>\n",
    "\"\"\"\n",
    "soup = BeautifulSoup(html, 'html.parser')\n",
    "\n",
    "# 행 추출\n",
    "rows = soup.find_all('tr')\n",
    "# print(rows)\n",
    "for row in rows: #한 행씩 가져다가 처리\n",
    "    cols = row.find_all(['th','td'])\n",
    "    # print(cols)\n",
    "    print([col.text for col in cols])"
   ]
  },
  {
   "cell_type": "markdown",
   "metadata": {},
   "source": [
    "#### 메소드 정리 \n",
    "#### 1.find , find_all : 특정 태그로 찾기\n",
    "#### 1.select, select_one : css selector로 찾기\n",
    "\n",
    "- find(tag) : 첫번째로 일치하는 태그 오브젝트 반환 \n",
    "- find_all(tag,limit=) : 일치하는 모든 태그 오브젝트를 리스트로 반환 \n",
    "- find_parent() : 첫번째 부모 태그 object 반환 \n",
    "- find_parents() : 모든 부모 태그, object 리스트 반환 \n",
    "- find_next_sibiling() : 다음 형제 태그 오브젝트 반환 \n",
    "- find_previous_sibiling : 이전 형제 태그 오브젝트 반환 \n",
    "- select_one() : css selector 사용해서 특정 태그 오브젝트 반환 \n",
    "- select() : css selector 사용해서 모든 태그 오브젝트 리스트로 반환\n",
    "- 속성(Attribute)\n",
    "  - tag.text : 텍스트 추출\n",
    "  - tag['속성명'] : 해당 속성의 값을 추출\n",
    "  - tag['속성명'] = 값 : 값 변경\n",
    "- 태그 제어\n",
    "  - tag.decompose() : 태그 제거\n",
    "  - tag.extract() : 태그 제거 후 반환\n",
    "  - soup.new_tag() : soup 오브젝트에 새로운 태그 생성 "
   ]
  },
  {
   "cell_type": "code",
   "execution_count": 10,
   "metadata": {},
   "outputs": [
    {
     "name": "stdout",
     "output_type": "stream",
     "text": [
      "<body>\n",
      "<h1>안녕하세요!</h1>\n",
      "<p class=\"content\">이것은 예제 문장입니다.</p>\n",
      "</body>\n",
      "body\n",
      "html\n",
      "[document]\n"
     ]
    }
   ],
   "source": [
    "html = \"\"\"\n",
    "<html>\n",
    "    <head><title>테스트 페이지</title></head>\n",
    "    <body>\n",
    "        <h1>안녕하세요!</h1>\n",
    "        <p class=\"content\">이것은 예제 문장입니다.</p>\n",
    "    </body>\n",
    "</html>\n",
    "\"\"\"\n",
    "\n",
    "soup = BeautifulSoup(html,'html.parser')\n",
    "\n",
    "# p 태그 먼저 찾는다\n",
    "p_tag = soup.find('p')\n",
    "parent_tag = p_tag.find_parent()\n",
    "print(parent_tag)\n",
    "\n",
    "all_parents = p_tag.find_parents()\n",
    "for parent in all_parents:\n",
    "    print(parent.name)"
   ]
  },
  {
   "cell_type": "code",
   "execution_count": 12,
   "metadata": {},
   "outputs": [
    {
     "name": "stdout",
     "output_type": "stream",
     "text": [
      "None\n",
      "<h1>안녕하세요!</h1>\n"
     ]
    }
   ],
   "source": [
    "html = \"\"\"\n",
    "<html>\n",
    "    <head><title>테스트 페이지</title></head>\n",
    "    <body>\n",
    "        <h1>안녕하세요!</h1>\n",
    "        <p class=\"content\">이것은 예제 문장입니다.</p>\n",
    "    </body>\n",
    "</html>\n",
    "\"\"\"\n",
    "\n",
    "soup = BeautifulSoup(html,'html.parser')\n",
    "\n",
    "# p 태그 먼저 찾는다\n",
    "p_tag = soup.find('p')\n",
    "\n",
    "# 다음 형제 태그 추출\n",
    "print(p_tag.find_next_sibling())\n",
    "print(p_tag.find_previous_sibling())"
   ]
  },
  {
   "cell_type": "code",
   "execution_count": null,
   "metadata": {},
   "outputs": [
    {
     "name": "stdout",
     "output_type": "stream",
     "text": [
      "이것은 예제 첫 번째 문장입니다.\n"
     ]
    },
    {
     "ename": "KeyError",
     "evalue": "1",
     "output_type": "error",
     "traceback": [
      "\u001b[1;31m---------------------------------------------------------------------------\u001b[0m",
      "\u001b[1;31mKeyError\u001b[0m                                  Traceback (most recent call last)",
      "Cell \u001b[1;32mIn[3], line 20\u001b[0m\n\u001b[0;32m     17\u001b[0m \u001b[38;5;28mprint\u001b[39m(p_tag\u001b[38;5;241m.\u001b[39mtext)\n\u001b[0;32m     19\u001b[0m p_tags \u001b[38;5;241m=\u001b[39m soup\u001b[38;5;241m.\u001b[39mselect(\u001b[38;5;124m'\u001b[39m\u001b[38;5;124mp\u001b[39m\u001b[38;5;124m'\u001b[39m)\n\u001b[1;32m---> 20\u001b[0m \u001b[38;5;28mprint\u001b[39m(\u001b[43mp_tag\u001b[49m\u001b[43m[\u001b[49m\u001b[38;5;241;43m1\u001b[39;49m\u001b[43m]\u001b[49m\u001b[38;5;241m.\u001b[39mtext)\n",
      "File \u001b[1;32mc:\\Users\\TJ\\.conda\\envs\\firstenv\\lib\\site-packages\\bs4\\element.py:1573\u001b[0m, in \u001b[0;36mTag.__getitem__\u001b[1;34m(self, key)\u001b[0m\n\u001b[0;32m   1570\u001b[0m \u001b[38;5;28;01mdef\u001b[39;00m \u001b[38;5;21m__getitem__\u001b[39m(\u001b[38;5;28mself\u001b[39m, key):\n\u001b[0;32m   1571\u001b[0m \u001b[38;5;250m    \u001b[39m\u001b[38;5;124;03m\"\"\"tag[key] returns the value of the 'key' attribute for the Tag,\u001b[39;00m\n\u001b[0;32m   1572\u001b[0m \u001b[38;5;124;03m    and throws an exception if it's not there.\"\"\"\u001b[39;00m\n\u001b[1;32m-> 1573\u001b[0m     \u001b[38;5;28;01mreturn\u001b[39;00m \u001b[38;5;28;43mself\u001b[39;49m\u001b[38;5;241;43m.\u001b[39;49m\u001b[43mattrs\u001b[49m\u001b[43m[\u001b[49m\u001b[43mkey\u001b[49m\u001b[43m]\u001b[49m\n",
      "\u001b[1;31mKeyError\u001b[0m: 1"
     ]
    }
   ],
   "source": [
    "from bs4 import BeautifulSoup \n",
    "html = \"\"\"\n",
    "<html>\n",
    "    <head><title>테스트 페이지</title></head>\n",
    "    <body>\n",
    "        <h1>안녕하세요!</h1>\n",
    "        <p class=\"content\">이것은 예제 첫 번째 문장입니다.</p>\n",
    "        <p class=\"content\">이것은 예제 두 번째 문장입니다.</p>\n",
    "    </body>\n",
    "</html>\n",
    "\"\"\"\n",
    "\n",
    "soup = BeautifulSoup(html,'html.parser')\n",
    "\n",
    "# p 태그 먼저 찾는다\n",
    "p_tag = soup.select_one('p.content2')\n",
    "print(p_tag.text)\n",
    "\n",
    "p_tags = soup.select('p')\n",
    "print(p_tag[1].text)\n",
    "\n"
   ]
  },
  {
   "cell_type": "code",
   "execution_count": 4,
   "metadata": {},
   "outputs": [
    {
     "name": "stdout",
     "output_type": "stream",
     "text": [
      "[<a href=\"/item/board_read.naver?code=068270&amp;nid=297906968&amp;st=&amp;sw=&amp;page=2\" onclick=\"return singleSubmitCheck();\" title=\"신규 유입전에 보세요\">신규 유입전에 보세요\n",
      "\t\t\t\t\t\n",
      "\t\t\t\t\n",
      "\t\t\t\t<span class=\"tah p9\" style=\"color:#639933\">[<b>1</b>]</span>\n",
      "<img height=\"10\" src=\"https://ssl.pstatic.net/imgstock/images5/new.gif\" width=\"10\"/></a>]\n"
     ]
    }
   ],
   "source": [
    "import requests\n",
    "from bs4 import BeautifulSoup\n",
    "\n",
    "\n",
    "url = 'https://finance.naver.com/item/board.naver?code=068270&page=2'\n",
    "\n",
    "\n",
    "headers = {\n",
    "    \"User-Agent\": \"Mozilla/5.0 (Windows NT 10.0; Win64; x64) AppleWebKit/537.36 (KHTML, like Gecko) Chrome/122.0.0.0 Safari/537.36\"\n",
    "}\n",
    "response = requests.get(url, headers=headers)\n",
    "\n",
    "\n",
    "soup = BeautifulSoup(response.text, 'html.parser')\n",
    "\n",
    "\n",
    "posts = soup.select('#content > div.section.inner_sub > table.type2 > tbody > tr:nth-child(5) > td.title > a')\n",
    "print(posts)\n",
    "\n"
   ]
  }
 ],
 "metadata": {
  "kernelspec": {
   "display_name": "Python 3",
   "language": "python",
   "name": "python3"
  },
  "language_info": {
   "codemirror_mode": {
    "name": "ipython",
    "version": 3
   },
   "file_extension": ".py",
   "mimetype": "text/x-python",
   "name": "python",
   "nbconvert_exporter": "python",
   "pygments_lexer": "ipython3",
   "version": "3.10.16"
  }
 },
 "nbformat": 4,
 "nbformat_minor": 2
}
