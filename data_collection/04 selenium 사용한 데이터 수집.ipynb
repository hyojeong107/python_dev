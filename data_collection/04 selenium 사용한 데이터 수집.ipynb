{
 "cells": [
  {
   "cell_type": "markdown",
   "metadata": {},
   "source": [
    "## 2025.03.10(월)"
   ]
  },
  {
   "cell_type": "markdown",
   "metadata": {},
   "source": [
    "---\n",
    "### 04 셀프 주유소 휘발유 가격 분석 \n",
    "---\n",
    "\n",
    "1. Selenium Library 사용 \n",
    "    - 원래 목적은 웹에서 데이터 수집하는 어플리케이션 개발, 자동화 테스트를 하기 위해서 만들어짐\n",
    "    - 우리는 데이터 수집에 사용 할 것이다.\n",
    "    - selenium.webdriver: 데이터 수집에 사용\n",
    "        - ***웹 브라우저를 제어***하고 자동화 할 수 있는 API 제공 \n",
    "        - 다양한 브라우저 제어 \n",
    "2. webdriver_module\n",
    "    - 브라우저 제어\n",
    "      - get(URL) : 지정된 URL로 이동 \n",
    "      - back():뒤로, forward():앞으로, refresh():새로고침\n",
    "      - maxmize_window() : 브라우저 창을 최대화\n",
    "      - close() : 현재 탭 삭제 \n",
    "      - quit() : 전체 브라우저 닫기 \n",
    "    - 요소 찾기 \n",
    "      - find_element(By.ID,'찾고자 할 ID명')\n",
    "      - find_element(By.NAME,'찾고자 할 태그명')\n",
    "      - find_element(By.CLASS_NAME,'찾고자 할 class명')\n",
    "      - find_element(By.TAG,'찾고자 할 tag명')\n",
    "      - find_element(By.CSS_SELECTOR,'찾고자 할 css selector명')\n",
    "      - find_element(By.XPATH,'찾고자 할 XPATH명'), XPATH : selet 축약\n",
    "    - 상호작용 처리\n",
    "      - click() : 특정 태그를 클릭 할 때 사용 \n",
    "      - send_key('value) : 해당 요소에 텍스트로 value가 입력되게 할 때 사용 \n",
    "      - clear() : 특정 요소의 입력값을 삭제 할 때 사용 \n",
    "      - submit() : 서버로 데이터 전송 할 때 사용 \n",
    "      - execute_script('js code') : 자바 스크립트 코드 실행 \n",
    "       \n",
    "      "
   ]
  },
  {
   "cell_type": "code",
   "execution_count": 7,
   "metadata": {},
   "outputs": [],
   "source": [
    "# 네이버 자동 로그인 처리 : 에러 난다 \n",
    "from selenium import webdriver\n",
    "\n",
    "from selenium.webdriver.common.by import By\n",
    "\n",
    "driver=webdriver.Chrome() # 크롬 브라우저를 다룰 수 있는 오브젝트 생성 \n",
    "driver.get('https://nid.naver.com/nidlogin.login?mode=form&url=https://www.naver.com/')"
   ]
  },
  {
   "cell_type": "code",
   "execution_count": 6,
   "metadata": {},
   "outputs": [],
   "source": [
    "naver_id='aaaa'\n",
    "naver_password='1234'"
   ]
  },
  {
   "cell_type": "code",
   "execution_count": 9,
   "metadata": {},
   "outputs": [],
   "source": [
    "# id 입력하는 textbox 선택\n",
    "id_box=driver.find_element(By.ID , 'id')\n",
    "id_box.send_keys(naver_id)"
   ]
  },
  {
   "cell_type": "code",
   "execution_count": 10,
   "metadata": {},
   "outputs": [],
   "source": [
    "pw_box = driver.find_element(By.ID , 'pw')\n",
    "pw_box.send_keys(naver_password)"
   ]
  },
  {
   "cell_type": "code",
   "execution_count": 11,
   "metadata": {},
   "outputs": [],
   "source": [
    "login_button=driver.find_element(By.ID,'log.login')\n",
    "login_button.click()"
   ]
  },
  {
   "cell_type": "code",
   "execution_count": 13,
   "metadata": {},
   "outputs": [],
   "source": [
    "driver.close()"
   ]
  },
  {
   "cell_type": "markdown",
   "metadata": {},
   "source": [
    "--- \n",
    "#### 주유소 데이터 습격\n",
    "--- \n"
   ]
  },
  {
   "cell_type": "code",
   "execution_count": 1,
   "metadata": {},
   "outputs": [],
   "source": [
    "# import\n",
    "from selenium import webdriver\n",
    "from selenium.webdriver.common.by import By\n",
    "from selenium.webdriver.chrome.options import Options\n",
    "\n",
    "# options: 화면 출력 전 옵션 설정 \n",
    "# options.add_argument(옵션)\n",
    "# options.add_argument('--headless') : 브라우저 창을 화면 표시하지 않고 드라이버 작동"
   ]
  },
  {
   "cell_type": "code",
   "execution_count": 26,
   "metadata": {},
   "outputs": [],
   "source": [
    "# 브라우저 오브젝트를 생성 \n",
    "driver=webdriver.Chrome()\n",
    "\n",
    "# 화면 출력\n",
    "driver.get('https://www.opinet.co.kr/searRgSelect.do')"
   ]
  },
  {
   "cell_type": "code",
   "execution_count": 28,
   "metadata": {},
   "outputs": [
    {
     "data": {
      "text/plain": [
       "[<selenium.webdriver.remote.webelement.WebElement (session=\"46e0b261b0bd397995d60ca9f7253c4c\", element=\"f.88E418A366BF2622D38E82815A41E79D.d.8719C1648917CBCC485AC4BA09DBC5AC.e.112\")>,\n",
       " <selenium.webdriver.remote.webelement.WebElement (session=\"46e0b261b0bd397995d60ca9f7253c4c\", element=\"f.88E418A366BF2622D38E82815A41E79D.d.8719C1648917CBCC485AC4BA09DBC5AC.e.114\")>,\n",
       " <selenium.webdriver.remote.webelement.WebElement (session=\"46e0b261b0bd397995d60ca9f7253c4c\", element=\"f.88E418A366BF2622D38E82815A41E79D.d.8719C1648917CBCC485AC4BA09DBC5AC.e.116\")>,\n",
       " <selenium.webdriver.remote.webelement.WebElement (session=\"46e0b261b0bd397995d60ca9f7253c4c\", element=\"f.88E418A366BF2622D38E82815A41E79D.d.8719C1648917CBCC485AC4BA09DBC5AC.e.118\")>,\n",
       " <selenium.webdriver.remote.webelement.WebElement (session=\"46e0b261b0bd397995d60ca9f7253c4c\", element=\"f.88E418A366BF2622D38E82815A41E79D.d.8719C1648917CBCC485AC4BA09DBC5AC.e.120\")>,\n",
       " <selenium.webdriver.remote.webelement.WebElement (session=\"46e0b261b0bd397995d60ca9f7253c4c\", element=\"f.88E418A366BF2622D38E82815A41E79D.d.8719C1648917CBCC485AC4BA09DBC5AC.e.122\")>,\n",
       " <selenium.webdriver.remote.webelement.WebElement (session=\"46e0b261b0bd397995d60ca9f7253c4c\", element=\"f.88E418A366BF2622D38E82815A41E79D.d.8719C1648917CBCC485AC4BA09DBC5AC.e.124\")>,\n",
       " <selenium.webdriver.remote.webelement.WebElement (session=\"46e0b261b0bd397995d60ca9f7253c4c\", element=\"f.88E418A366BF2622D38E82815A41E79D.d.8719C1648917CBCC485AC4BA09DBC5AC.e.126\")>,\n",
       " <selenium.webdriver.remote.webelement.WebElement (session=\"46e0b261b0bd397995d60ca9f7253c4c\", element=\"f.88E418A366BF2622D38E82815A41E79D.d.8719C1648917CBCC485AC4BA09DBC5AC.e.128\")>,\n",
       " <selenium.webdriver.remote.webelement.WebElement (session=\"46e0b261b0bd397995d60ca9f7253c4c\", element=\"f.88E418A366BF2622D38E82815A41E79D.d.8719C1648917CBCC485AC4BA09DBC5AC.e.130\")>,\n",
       " <selenium.webdriver.remote.webelement.WebElement (session=\"46e0b261b0bd397995d60ca9f7253c4c\", element=\"f.88E418A366BF2622D38E82815A41E79D.d.8719C1648917CBCC485AC4BA09DBC5AC.e.132\")>,\n",
       " <selenium.webdriver.remote.webelement.WebElement (session=\"46e0b261b0bd397995d60ca9f7253c4c\", element=\"f.88E418A366BF2622D38E82815A41E79D.d.8719C1648917CBCC485AC4BA09DBC5AC.e.134\")>,\n",
       " <selenium.webdriver.remote.webelement.WebElement (session=\"46e0b261b0bd397995d60ca9f7253c4c\", element=\"f.88E418A366BF2622D38E82815A41E79D.d.8719C1648917CBCC485AC4BA09DBC5AC.e.136\")>,\n",
       " <selenium.webdriver.remote.webelement.WebElement (session=\"46e0b261b0bd397995d60ca9f7253c4c\", element=\"f.88E418A366BF2622D38E82815A41E79D.d.8719C1648917CBCC485AC4BA09DBC5AC.e.138\")>,\n",
       " <selenium.webdriver.remote.webelement.WebElement (session=\"46e0b261b0bd397995d60ca9f7253c4c\", element=\"f.88E418A366BF2622D38E82815A41E79D.d.8719C1648917CBCC485AC4BA09DBC5AC.e.140\")>,\n",
       " <selenium.webdriver.remote.webelement.WebElement (session=\"46e0b261b0bd397995d60ca9f7253c4c\", element=\"f.88E418A366BF2622D38E82815A41E79D.d.8719C1648917CBCC485AC4BA09DBC5AC.e.142\")>,\n",
       " <selenium.webdriver.remote.webelement.WebElement (session=\"46e0b261b0bd397995d60ca9f7253c4c\", element=\"f.88E418A366BF2622D38E82815A41E79D.d.8719C1648917CBCC485AC4BA09DBC5AC.e.144\")>,\n",
       " <selenium.webdriver.remote.webelement.WebElement (session=\"46e0b261b0bd397995d60ca9f7253c4c\", element=\"f.88E418A366BF2622D38E82815A41E79D.d.8719C1648917CBCC485AC4BA09DBC5AC.e.146\")>,\n",
       " <selenium.webdriver.remote.webelement.WebElement (session=\"46e0b261b0bd397995d60ca9f7253c4c\", element=\"f.88E418A366BF2622D38E82815A41E79D.d.8719C1648917CBCC485AC4BA09DBC5AC.e.148\")>,\n",
       " <selenium.webdriver.remote.webelement.WebElement (session=\"46e0b261b0bd397995d60ca9f7253c4c\", element=\"f.88E418A366BF2622D38E82815A41E79D.d.8719C1648917CBCC485AC4BA09DBC5AC.e.150\")>,\n",
       " <selenium.webdriver.remote.webelement.WebElement (session=\"46e0b261b0bd397995d60ca9f7253c4c\", element=\"f.88E418A366BF2622D38E82815A41E79D.d.8719C1648917CBCC485AC4BA09DBC5AC.e.152\")>,\n",
       " <selenium.webdriver.remote.webelement.WebElement (session=\"46e0b261b0bd397995d60ca9f7253c4c\", element=\"f.88E418A366BF2622D38E82815A41E79D.d.8719C1648917CBCC485AC4BA09DBC5AC.e.154\")>,\n",
       " <selenium.webdriver.remote.webelement.WebElement (session=\"46e0b261b0bd397995d60ca9f7253c4c\", element=\"f.88E418A366BF2622D38E82815A41E79D.d.8719C1648917CBCC485AC4BA09DBC5AC.e.156\")>,\n",
       " <selenium.webdriver.remote.webelement.WebElement (session=\"46e0b261b0bd397995d60ca9f7253c4c\", element=\"f.88E418A366BF2622D38E82815A41E79D.d.8719C1648917CBCC485AC4BA09DBC5AC.e.158\")>,\n",
       " <selenium.webdriver.remote.webelement.WebElement (session=\"46e0b261b0bd397995d60ca9f7253c4c\", element=\"f.88E418A366BF2622D38E82815A41E79D.d.8719C1648917CBCC485AC4BA09DBC5AC.e.160\")>,\n",
       " <selenium.webdriver.remote.webelement.WebElement (session=\"46e0b261b0bd397995d60ca9f7253c4c\", element=\"f.88E418A366BF2622D38E82815A41E79D.d.8719C1648917CBCC485AC4BA09DBC5AC.e.162\")>]"
      ]
     },
     "execution_count": 28,
     "metadata": {},
     "output_type": "execute_result"
    }
   ],
   "source": [
    "# 1. 서울시 고정, 구별 정보 추출\n",
    "# select box value 추출\n",
    "# 1.1 select box  selection\n",
    "x_path='//*[@id=\"SIGUNGU_NM0\"]' # xpath 복사하고 붙여넣기\n",
    "gu_list_raw=driver.find_element(By.XPATH,'//*[@id=\"SIGUNGU_NM0\"]')\n",
    "gu_list=gu_list_raw.find_elements(By.TAG_NAME,'option') # option 태그를 찾으라는 여러개 찾으라는 뜻\n",
    "# find_elements = 여러개\n",
    "gu_list\n"
   ]
  },
  {
   "cell_type": "code",
   "execution_count": 29,
   "metadata": {},
   "outputs": [
    {
     "data": {
      "text/plain": [
       "['',\n",
       " '강남구',\n",
       " '강동구',\n",
       " '강북구',\n",
       " '강서구',\n",
       " '관악구',\n",
       " '광진구',\n",
       " '구로구',\n",
       " '금천구',\n",
       " '노원구',\n",
       " '도봉구',\n",
       " '동대문구',\n",
       " '동작구',\n",
       " '마포구',\n",
       " '서대문구',\n",
       " '서초구',\n",
       " '성동구',\n",
       " '성북구',\n",
       " '송파구',\n",
       " '양천구',\n",
       " '영등포구',\n",
       " '용산구',\n",
       " '은평구',\n",
       " '종로구',\n",
       " '중구',\n",
       " '중랑구']"
      ]
     },
     "execution_count": 29,
     "metadata": {},
     "output_type": "execute_result"
    }
   ],
   "source": [
    "# 구 이름 추출해서 리스트 처리 \n",
    "# option.get_attribute('value') : value 어트리뷰트의 값을 추출 => 구 이름 추출 \n",
    "gu_name=[option.get_attribute('value') for option in gu_list]\n",
    "gu_name"
   ]
  },
  {
   "cell_type": "code",
   "execution_count": 30,
   "metadata": {},
   "outputs": [
    {
     "data": {
      "text/plain": [
       "['강남구',\n",
       " '강동구',\n",
       " '강북구',\n",
       " '강서구',\n",
       " '관악구',\n",
       " '광진구',\n",
       " '구로구',\n",
       " '금천구',\n",
       " '노원구',\n",
       " '도봉구',\n",
       " '동대문구',\n",
       " '동작구',\n",
       " '마포구',\n",
       " '서대문구',\n",
       " '서초구',\n",
       " '성동구',\n",
       " '성북구',\n",
       " '송파구',\n",
       " '양천구',\n",
       " '영등포구',\n",
       " '용산구',\n",
       " '은평구',\n",
       " '종로구',\n",
       " '중구',\n",
       " '중랑구']"
      ]
     },
     "execution_count": 30,
     "metadata": {},
     "output_type": "execute_result"
    }
   ],
   "source": [
    "gu_name.remove('')\n",
    "gu_name"
   ]
  },
  {
   "cell_type": "code",
   "execution_count": 32,
   "metadata": {},
   "outputs": [
    {
     "name": "stderr",
     "output_type": "stream",
     "text": [
      "100%|██████████| 25/25 [04:00<00:00,  9.60s/it]\n"
     ]
    }
   ],
   "source": [
    "\n",
    "from tqdm import tqdm\n",
    "import time # sleep()사용\n",
    "# client(code) -> server 처리 시간 -> data -> client\n",
    "\n",
    "\n",
    "for gu in tqdm (gu_name): # 구가 25개 => 25번 반복\n",
    "   # 1. select box 선택\n",
    "   select_element=driver.find_element(By.ID,'SIGUNGU_NM0')\n",
    "   # 2. select box 값으로 보내서 데이터 갱신 : 강남구\n",
    "   select_element.send_keys(gu)\n",
    "  \n",
    "   time.sleep(2) # 서버에서 데이터가 오는 것을 2초를 기다려라\n",
    "  \n",
    "   # 2. 조회 버튼 클릭 : searRgSelect\n",
    "   search_element=driver.find_element(By.ID,'searRgSelect')\n",
    "   search_element.click()\n",
    "  \n",
    "   time.sleep(2)\n",
    "  \n",
    "   # 3. 엑셀 저장 버튼 선택, 클릭 => 해당 구의 엑셀파일이 다운로드가 된다.\n",
    "   # //*[@id=\"templ_list0\"]/div[7]/div/a\n",
    "   x_path='//*[@id=\"templ_list0\"]/div[7]/div/a'\n",
    "   excel_element=driver.find_element(By.XPATH,x_path)\n",
    "   excel_element.click()\n",
    "  \n",
    "   time.sleep(5)"
   ]
  },
  {
   "cell_type": "code",
   "execution_count": null,
   "metadata": {},
   "outputs": [],
   "source": [
    "driver.close()break"
   ]
  },
  {
   "cell_type": "code",
   "execution_count": 1,
   "metadata": {},
   "outputs": [],
   "source": [
    "# 엑셀 파일을 로딩해서 데이터프레임 변환\n",
    "# 25개 파일 : 파일 목록 필요\n",
    "import numpy as np\n",
    "import pandas as pd\n",
    "from glob import glob"
   ]
  },
  {
   "cell_type": "code",
   "execution_count": 2,
   "metadata": {},
   "outputs": [
    {
     "data": {
      "text/plain": [
       "[]"
      ]
     },
     "execution_count": 2,
     "metadata": {},
     "output_type": "execute_result"
    }
   ],
   "source": [
    "# glob 사용법\n",
    "# glob('경로/파일명패턴(?,*)')\n",
    "glob('./oil_data/*.xls') # 해당 디렉토리 안에 있는 파일 목록(문자열)을 리스트로 반환\n"
   ]
  },
  {
   "cell_type": "code",
   "execution_count": 3,
   "metadata": {},
   "outputs": [
    {
     "data": {
      "text/plain": [
       "[]"
      ]
     },
     "execution_count": 3,
     "metadata": {},
     "output_type": "execute_result"
    }
   ],
   "source": [
    "# 파일 목록 저장\n",
    "stations_files=glob('./oil_data/*.xls')\n",
    "stations_files[:5]"
   ]
  },
  {
   "cell_type": "code",
   "execution_count": 7,
   "metadata": {},
   "outputs": [],
   "source": [
    "# 구별(25개) 데이터프레임을 저장할 임시 리스트\n",
    "tmp_df_list=[]\n",
    "\n",
    "for file_name in stations_files:\n",
    "    tmp=pd.read_excel(file_name, header=2) # DataFrame\n",
    "    tmp_df_list.append(tmp) # 위에 읽어온 데이터프레임을 리스트에 추가"
   ]
  },
  {
   "cell_type": "code",
   "execution_count": 8,
   "metadata": {},
   "outputs": [
    {
     "ename": "IndexError",
     "evalue": "list index out of range",
     "output_type": "error",
     "traceback": [
      "\u001b[1;31m---------------------------------------------------------------------------\u001b[0m",
      "\u001b[1;31mIndexError\u001b[0m                                Traceback (most recent call last)",
      "Cell \u001b[1;32mIn[8], line 2\u001b[0m\n\u001b[0;32m      1\u001b[0m \u001b[38;5;66;03m# 첫번째 데이터 프레임을 확인 \u001b[39;00m\n\u001b[1;32m----> 2\u001b[0m \u001b[43mtmp_df_list\u001b[49m\u001b[43m[\u001b[49m\u001b[38;5;241;43m0\u001b[39;49m\u001b[43m]\u001b[49m\u001b[38;5;241m.\u001b[39mhead()\n",
      "\u001b[1;31mIndexError\u001b[0m: list index out of range"
     ]
    }
   ],
   "source": [
    "# 첫번째 데이터 프레임을 확인 \n",
    "tmp_df_list[0].head()"
   ]
  },
  {
   "cell_type": "code",
   "execution_count": 9,
   "metadata": {},
   "outputs": [
    {
     "ename": "ValueError",
     "evalue": "No objects to concatenate",
     "output_type": "error",
     "traceback": [
      "\u001b[1;31m---------------------------------------------------------------------------\u001b[0m",
      "\u001b[1;31mValueError\u001b[0m                                Traceback (most recent call last)",
      "Cell \u001b[1;32mIn[9], line 2\u001b[0m\n\u001b[0;32m      1\u001b[0m \u001b[38;5;66;03m# 리스트에 들어있는 25개 데이터프레임을 통합 \u001b[39;00m\n\u001b[1;32m----> 2\u001b[0m stations_raw\u001b[38;5;241m=\u001b[39m\u001b[43mpd\u001b[49m\u001b[38;5;241;43m.\u001b[39;49m\u001b[43mconcat\u001b[49m\u001b[43m(\u001b[49m\u001b[43mtmp_df_list\u001b[49m\u001b[43m)\u001b[49m \n\u001b[0;32m      3\u001b[0m stations_raw\u001b[38;5;241m.\u001b[39mhead()\n",
      "File \u001b[1;32mc:\\ProgramData\\anaconda3\\envs\\dataproc\\lib\\site-packages\\pandas\\core\\reshape\\concat.py:382\u001b[0m, in \u001b[0;36mconcat\u001b[1;34m(objs, axis, join, ignore_index, keys, levels, names, verify_integrity, sort, copy)\u001b[0m\n\u001b[0;32m    379\u001b[0m \u001b[38;5;28;01melif\u001b[39;00m copy \u001b[38;5;129;01mand\u001b[39;00m using_copy_on_write():\n\u001b[0;32m    380\u001b[0m     copy \u001b[38;5;241m=\u001b[39m \u001b[38;5;28;01mFalse\u001b[39;00m\n\u001b[1;32m--> 382\u001b[0m op \u001b[38;5;241m=\u001b[39m \u001b[43m_Concatenator\u001b[49m\u001b[43m(\u001b[49m\n\u001b[0;32m    383\u001b[0m \u001b[43m    \u001b[49m\u001b[43mobjs\u001b[49m\u001b[43m,\u001b[49m\n\u001b[0;32m    384\u001b[0m \u001b[43m    \u001b[49m\u001b[43maxis\u001b[49m\u001b[38;5;241;43m=\u001b[39;49m\u001b[43maxis\u001b[49m\u001b[43m,\u001b[49m\n\u001b[0;32m    385\u001b[0m \u001b[43m    \u001b[49m\u001b[43mignore_index\u001b[49m\u001b[38;5;241;43m=\u001b[39;49m\u001b[43mignore_index\u001b[49m\u001b[43m,\u001b[49m\n\u001b[0;32m    386\u001b[0m \u001b[43m    \u001b[49m\u001b[43mjoin\u001b[49m\u001b[38;5;241;43m=\u001b[39;49m\u001b[43mjoin\u001b[49m\u001b[43m,\u001b[49m\n\u001b[0;32m    387\u001b[0m \u001b[43m    \u001b[49m\u001b[43mkeys\u001b[49m\u001b[38;5;241;43m=\u001b[39;49m\u001b[43mkeys\u001b[49m\u001b[43m,\u001b[49m\n\u001b[0;32m    388\u001b[0m \u001b[43m    \u001b[49m\u001b[43mlevels\u001b[49m\u001b[38;5;241;43m=\u001b[39;49m\u001b[43mlevels\u001b[49m\u001b[43m,\u001b[49m\n\u001b[0;32m    389\u001b[0m \u001b[43m    \u001b[49m\u001b[43mnames\u001b[49m\u001b[38;5;241;43m=\u001b[39;49m\u001b[43mnames\u001b[49m\u001b[43m,\u001b[49m\n\u001b[0;32m    390\u001b[0m \u001b[43m    \u001b[49m\u001b[43mverify_integrity\u001b[49m\u001b[38;5;241;43m=\u001b[39;49m\u001b[43mverify_integrity\u001b[49m\u001b[43m,\u001b[49m\n\u001b[0;32m    391\u001b[0m \u001b[43m    \u001b[49m\u001b[43mcopy\u001b[49m\u001b[38;5;241;43m=\u001b[39;49m\u001b[43mcopy\u001b[49m\u001b[43m,\u001b[49m\n\u001b[0;32m    392\u001b[0m \u001b[43m    \u001b[49m\u001b[43msort\u001b[49m\u001b[38;5;241;43m=\u001b[39;49m\u001b[43msort\u001b[49m\u001b[43m,\u001b[49m\n\u001b[0;32m    393\u001b[0m \u001b[43m\u001b[49m\u001b[43m)\u001b[49m\n\u001b[0;32m    395\u001b[0m \u001b[38;5;28;01mreturn\u001b[39;00m op\u001b[38;5;241m.\u001b[39mget_result()\n",
      "File \u001b[1;32mc:\\ProgramData\\anaconda3\\envs\\dataproc\\lib\\site-packages\\pandas\\core\\reshape\\concat.py:445\u001b[0m, in \u001b[0;36m_Concatenator.__init__\u001b[1;34m(self, objs, axis, join, keys, levels, names, ignore_index, verify_integrity, copy, sort)\u001b[0m\n\u001b[0;32m    442\u001b[0m \u001b[38;5;28mself\u001b[39m\u001b[38;5;241m.\u001b[39mverify_integrity \u001b[38;5;241m=\u001b[39m verify_integrity\n\u001b[0;32m    443\u001b[0m \u001b[38;5;28mself\u001b[39m\u001b[38;5;241m.\u001b[39mcopy \u001b[38;5;241m=\u001b[39m copy\n\u001b[1;32m--> 445\u001b[0m objs, keys \u001b[38;5;241m=\u001b[39m \u001b[38;5;28;43mself\u001b[39;49m\u001b[38;5;241;43m.\u001b[39;49m\u001b[43m_clean_keys_and_objs\u001b[49m\u001b[43m(\u001b[49m\u001b[43mobjs\u001b[49m\u001b[43m,\u001b[49m\u001b[43m \u001b[49m\u001b[43mkeys\u001b[49m\u001b[43m)\u001b[49m\n\u001b[0;32m    447\u001b[0m \u001b[38;5;66;03m# figure out what our result ndim is going to be\u001b[39;00m\n\u001b[0;32m    448\u001b[0m ndims \u001b[38;5;241m=\u001b[39m \u001b[38;5;28mself\u001b[39m\u001b[38;5;241m.\u001b[39m_get_ndims(objs)\n",
      "File \u001b[1;32mc:\\ProgramData\\anaconda3\\envs\\dataproc\\lib\\site-packages\\pandas\\core\\reshape\\concat.py:507\u001b[0m, in \u001b[0;36m_Concatenator._clean_keys_and_objs\u001b[1;34m(self, objs, keys)\u001b[0m\n\u001b[0;32m    504\u001b[0m     objs_list \u001b[38;5;241m=\u001b[39m \u001b[38;5;28mlist\u001b[39m(objs)\n\u001b[0;32m    506\u001b[0m \u001b[38;5;28;01mif\u001b[39;00m \u001b[38;5;28mlen\u001b[39m(objs_list) \u001b[38;5;241m==\u001b[39m \u001b[38;5;241m0\u001b[39m:\n\u001b[1;32m--> 507\u001b[0m     \u001b[38;5;28;01mraise\u001b[39;00m \u001b[38;5;167;01mValueError\u001b[39;00m(\u001b[38;5;124m\"\u001b[39m\u001b[38;5;124mNo objects to concatenate\u001b[39m\u001b[38;5;124m\"\u001b[39m)\n\u001b[0;32m    509\u001b[0m \u001b[38;5;28;01mif\u001b[39;00m keys \u001b[38;5;129;01mis\u001b[39;00m \u001b[38;5;28;01mNone\u001b[39;00m:\n\u001b[0;32m    510\u001b[0m     objs_list \u001b[38;5;241m=\u001b[39m \u001b[38;5;28mlist\u001b[39m(com\u001b[38;5;241m.\u001b[39mnot_none(\u001b[38;5;241m*\u001b[39mobjs_list))\n",
      "\u001b[1;31mValueError\u001b[0m: No objects to concatenate"
     ]
    }
   ],
   "source": [
    "# 리스트에 들어있는 25개 데이터프레임을 통합 \n",
    "stations_raw=pd.concat(tmp_df_list) \n",
    "stations_raw.head()"
   ]
  },
  {
   "cell_type": "code",
   "execution_count": null,
   "metadata": {},
   "outputs": [],
   "source": [
    "stations_raw.info()"
   ]
  },
  {
   "cell_type": "code",
   "execution_count": null,
   "metadata": {},
   "outputs": [],
   "source": [
    "# 기존 데이터 프레임에서 정리된 새로운 데이터 프레임을 생성 \n",
    "stations=pd.DataFrame({\n",
    "    '상호':stations_raw['상호']\n",
    "    , '주소':stations_raw['주소']\n",
    "    ,'가격':stations_raw['휘발유']\n",
    "    , '셀프':stations_raw['셀프여부']\n",
    "    ,'상표':stations_raw['상표']\n",
    "})\n",
    "stations.head()\n"
   ]
  },
  {
   "cell_type": "code",
   "execution_count": null,
   "metadata": {},
   "outputs": [],
   "source": [
    "# 주소에서 '구'를 추출해서 새로운 '구'컬럼을 생성\n",
    "# stations['구']\n",
    "stations['구'] = [address.split()[1] for address in stations['주소']]\n",
    "stations['구'][-5:]"
   ]
  },
  {
   "cell_type": "code",
   "execution_count": null,
   "metadata": {},
   "outputs": [],
   "source": []
  }
 ],
 "metadata": {
  "kernelspec": {
   "display_name": "dataproc",
   "language": "python",
   "name": "python3"
  },
  "language_info": {
   "codemirror_mode": {
    "name": "ipython",
    "version": 3
   },
   "file_extension": ".py",
   "mimetype": "text/x-python",
   "name": "python",
   "nbconvert_exporter": "python",
   "pygments_lexer": "ipython3",
   "version": "3.10.16"
  }
 },
 "nbformat": 4,
 "nbformat_minor": 2
}
