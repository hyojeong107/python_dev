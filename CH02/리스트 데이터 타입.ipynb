{
 "cells": [
  {
   "cell_type": "markdown",
   "metadata": {},
   "source": [
    "## 2025.02.14(금)"
   ]
  },
  {
   "cell_type": "markdown",
   "metadata": {},
   "source": [
    "### List 데이터 타입 \n",
    "1. 여러개 저장\n",
    "2. 하나로 묶는다\n",
    "\n",
    "### 인덱싱\n",
    "-단일값 처리"
   ]
  },
  {
   "cell_type": "code",
   "execution_count": 2,
   "metadata": {},
   "outputs": [
    {
     "name": "stdout",
     "output_type": "stream",
     "text": [
      "[1, 2, 3]\n"
     ]
    }
   ],
   "source": [
    "a = [1,2,3]\n",
    "# print(문자변경출력) 안하고 a 출력 : 타입이 보인다\n",
    "print(a)"
   ]
  },
  {
   "cell_type": "code",
   "execution_count": 6,
   "metadata": {},
   "outputs": [
    {
     "name": "stdout",
     "output_type": "stream",
     "text": [
      "1\n",
      "3\n",
      "3\n"
     ]
    }
   ],
   "source": [
    "# [1,2,3] 리스트에서 1 값을 추출 \n",
    "print(a[0])\n",
    "\n",
    "# 3 추출\n",
    "print(a[2])\n",
    "print(a[-1])"
   ]
  },
  {
   "cell_type": "code",
   "execution_count": 10,
   "metadata": {},
   "outputs": [
    {
     "data": {
      "text/plain": [
       "[1, 2, 3, ['a', 'b', 'c']]"
      ]
     },
     "execution_count": 10,
     "metadata": {},
     "output_type": "execute_result"
    }
   ],
   "source": [
    "\n",
    "a =[1,2,3,['a','b','c']]\n",
    "a"
   ]
  },
  {
   "cell_type": "code",
   "execution_count": 15,
   "metadata": {},
   "outputs": [
    {
     "name": "stdout",
     "output_type": "stream",
     "text": [
      "['a', 'b', 'c']\n",
      "['a', 'b', 'c']\n",
      "b\n",
      "b\n"
     ]
    }
   ],
   "source": [
    "a =[1,2,3,['a','b','c']]\n",
    "print(a[3])\n",
    "print(a[-1])\n",
    "\n",
    "#b 추출\n",
    "print(a[3][1])\n",
    "print(a[-1][1])"
   ]
  },
  {
   "cell_type": "code",
   "execution_count": 17,
   "metadata": {},
   "outputs": [
    {
     "name": "stdout",
     "output_type": "stream",
     "text": [
      "[1, 2]\n",
      "[1, 2]\n"
     ]
    }
   ],
   "source": [
    "# 슬라이싱 : 여러개 추출 => 리스트 반환\n",
    "# [start : end-1]\n",
    "a = [1,2,3,4,5]\n",
    "# [1,2] 반환\n",
    "print(a[0:2])\n",
    "print(a[:2])"
   ]
  },
  {
   "cell_type": "code",
   "execution_count": 20,
   "metadata": {},
   "outputs": [
    {
     "name": "stdout",
     "output_type": "stream",
     "text": [
      "['a', 'b']\n",
      "['a', 'b']\n"
     ]
    }
   ],
   "source": [
    "# 중첩된 리스트(리스트 안에 리스트 있는 것 ) 슬라이싱\n",
    "a = [1,2,3,['a','b','c'],4,5]\n",
    "# ['a','b']\n",
    "print(a[3][0:2])\n",
    "print(a[3][:2])"
   ]
  },
  {
   "cell_type": "code",
   "execution_count": null,
   "metadata": {},
   "outputs": [
    {
     "name": "stdout",
     "output_type": "stream",
     "text": [
      "[1, 2, 3, 4, 5, 6]\n"
     ]
    }
   ],
   "source": [
    "# 리스트에서 사용하는 연산자 (+,*) =>  사용 잘 안함\n",
    "# 1.리스트 + 리스트 : 연산자보다 함수를 사용한다.\n",
    "a = [1,2,3]\n",
    "b = [4,5,6]\n",
    "print(a+b)"
   ]
  },
  {
   "cell_type": "code",
   "execution_count": 25,
   "metadata": {},
   "outputs": [
    {
     "name": "stdout",
     "output_type": "stream",
     "text": [
      "[1, 2, 3, 1, 2, 3, 1, 2, 3]\n"
     ]
    }
   ],
   "source": [
    "# * 연산자 => 사용 잘 안함\n",
    "a = [1,2,3]\n",
    "print(a * 3)"
   ]
  },
  {
   "cell_type": "code",
   "execution_count": null,
   "metadata": {},
   "outputs": [
    {
     "name": "stdout",
     "output_type": "stream",
     "text": [
      "3\n",
      "<class 'int'>\n",
      "3hi\n"
     ]
    }
   ],
   "source": [
    "# 리스트 연산자 사용시 주의사항\n",
    "a = [1,2,3]\n",
    "print(a[2])\n",
    "print(type(a[2]))\n",
    "# print(a[2]+'hi') => error (타입 안맞음)\n",
    "print(str(a[2])+'hi')"
   ]
  },
  {
   "cell_type": "code",
   "execution_count": null,
   "metadata": {},
   "outputs": [
    {
     "name": "stdout",
     "output_type": "stream",
     "text": [
      "[1, 2, 4]\n",
      "[1, ['a', 'b', 'c'], 4]\n",
      "[1, 'a', 'b', 'c', 4]\n"
     ]
    }
   ],
   "source": [
    "# 리스트 수정 (변경,삭제)\n",
    "# 1.리스트에서 하나의 값(단일값)을 변경 => 인덱싱\n",
    "a = [1,2,3]\n",
    "# 3 => 4로 변경\n",
    "a[2]=4\n",
    "\n",
    "print(a)\n",
    "\n",
    "# 2.리스트에서 여러개 값을 변경 \n",
    "# 2 => ['a','b','c']\n",
    "# 인덱싱 => 리스트가 통으로 들어간다.\n",
    "a[1] = ['a','b','c']\n",
    "print(a)\n",
    "\n",
    "#슬라이싱 => 리스트가 쪼개져서 들어간다.\n",
    "a[1:2] = ['a','b','c']\n",
    "print(a)\n",
    "\n"
   ]
  },
  {
   "cell_type": "code",
   "execution_count": 50,
   "metadata": {},
   "outputs": [
    {
     "name": "stdout",
     "output_type": "stream",
     "text": [
      "[1, 'a', 'b', 'c', 4]\n"
     ]
    },
    {
     "data": {
      "text/plain": [
       "[1, 'c', 4]"
      ]
     },
     "execution_count": 50,
     "metadata": {},
     "output_type": "execute_result"
    }
   ],
   "source": [
    "# 리스트 데이터(요소) 삭제\n",
    "a = [1, 'a', 'b', 'c', 4]\n",
    "print(a)\n",
    "a[1:3] = []\n",
    "a"
   ]
  },
  {
   "cell_type": "code",
   "execution_count": 51,
   "metadata": {},
   "outputs": [
    {
     "name": "stdout",
     "output_type": "stream",
     "text": [
      "[1, 4]\n"
     ]
    }
   ],
   "source": [
    "# object 삭제 : 함수 => del\n",
    "a = [1,'c',4]\n",
    "a\n",
    "del a[1]\n",
    "print(a)"
   ]
  },
  {
   "cell_type": "markdown",
   "metadata": {},
   "source": [
    "---\n",
    "### 리스트 관련 메소드\n",
    "---"
   ]
  },
  {
   "cell_type": "code",
   "execution_count": 54,
   "metadata": {},
   "outputs": [
    {
     "name": "stdout",
     "output_type": "stream",
     "text": [
      "[1, 2, 3]\n",
      "[1, 2, 3, 4]\n",
      "[1, 2, 3, 4, [5, 6]]\n"
     ]
    }
   ],
   "source": [
    "# append : 마지막에 추가 \n",
    "a = [1,2,3]\n",
    "print(a)\n",
    "a.append(4)\n",
    "print(a)\n",
    "a.append([5,6])\n",
    "print(a)"
   ]
  },
  {
   "cell_type": "code",
   "execution_count": 57,
   "metadata": {},
   "outputs": [
    {
     "name": "stdout",
     "output_type": "stream",
     "text": [
      "None\n",
      "[1, 2, 3, 4]\n",
      "None\n",
      "['a', 'b', 'c', 'd']\n"
     ]
    }
   ],
   "source": [
    "# sort : 정렬 \n",
    "a = [1,4,3,2]\n",
    "# sort의 return 타입 : None => 안에 값 변경했으므로 리턴이 null 나온다.\n",
    "print( a.sort())\n",
    "print(a)\n",
    "\n",
    "b = ['a','c','d','b']\n",
    "print( b.sort())\n",
    "print(b)\n"
   ]
  },
  {
   "cell_type": "code",
   "execution_count": 59,
   "metadata": {},
   "outputs": [],
   "source": [
    "#reverse : 뒤집기 (정렬이 아니다)\n"
   ]
  },
  {
   "cell_type": "code",
   "execution_count": 63,
   "metadata": {},
   "outputs": [
    {
     "name": "stdout",
     "output_type": "stream",
     "text": [
      "2\n"
     ]
    }
   ],
   "source": [
    "# index : 리스트 안에 있는 특정 값을 찾아 index를 반환 \n",
    "a = [1,2,3]\n",
    "print(a.index(3)) # 3값의 인덱스 찾아라\n",
    "# print(a.index(6)) # 6값은 없다 => error: value error"
   ]
  },
  {
   "cell_type": "code",
   "execution_count": 68,
   "metadata": {},
   "outputs": [
    {
     "name": "stdout",
     "output_type": "stream",
     "text": [
      "None\n",
      "[4, 1, 2, 3]\n",
      "None\n",
      "[4, 1, 2, 5, 3]\n"
     ]
    }
   ],
   "source": [
    "# insert : 특정 위치(index)에 삽인 // append : 마지막에 삽입 \n",
    "# insert(위치(인덱스), 삽입 할 값)\n",
    "a = [1,2,3]\n",
    "print(a.insert(0,4))\n",
    "print(a)\n",
    "print(a.insert(3,5))\n",
    "print(a)"
   ]
  },
  {
   "cell_type": "code",
   "execution_count": 72,
   "metadata": {},
   "outputs": [
    {
     "name": "stdout",
     "output_type": "stream",
     "text": [
      "None\n",
      "[2, 3, 1, 2, 3]\n",
      "None\n",
      "[2, 3, 2, 3]\n"
     ]
    }
   ],
   "source": [
    "# remove: 값을 찾아서 제거, 왼쪽에서부터 찾아서 제거\n",
    "a = [1,2,3,1,2,3]\n",
    "print(a.remove(1)) #1제거\n",
    "print(a) # => [2, 3, 1, 2, 3]\n",
    "print(a.remove(1))\n",
    "print(a)\n",
    "# print(a.remove(1)) # => 없으면 value error\n",
    "# print(a)\n"
   ]
  },
  {
   "cell_type": "code",
   "execution_count": null,
   "metadata": {},
   "outputs": [
    {
     "name": "stdout",
     "output_type": "stream",
     "text": [
      "3\n",
      "[1, 2]\n",
      "2\n",
      "[1]\n"
     ]
    }
   ],
   "source": [
    "# pop : 1.마지막에서 꺼내고 삭제 \n",
    "a = [1,2,3]\n",
    "print(a.pop()) #파라미터 없다\n",
    "print(a)\n",
    "\n",
    "# 2.특정값을 지정해서 꺼내고 삭제\n",
    "print(a.pop(1)) #1(index)꺼내고 삭제\n",
    "print(a)"
   ]
  },
  {
   "cell_type": "code",
   "execution_count": 75,
   "metadata": {},
   "outputs": [
    {
     "name": "stdout",
     "output_type": "stream",
     "text": [
      "2\n"
     ]
    }
   ],
   "source": [
    "# count : 특정 값의 개수 세기 \n",
    "# count(특정값)\n",
    "a = [1,2,3,1]\n",
    "print(a.count(1)) #1의 개수는 몇개??"
   ]
  },
  {
   "cell_type": "code",
   "execution_count": 79,
   "metadata": {},
   "outputs": [
    {
     "name": "stdout",
     "output_type": "stream",
     "text": [
      "None\n",
      "[1, 2, 3, [4, 5]]\n",
      "None\n",
      "[1, 2, 3, 4, 5]\n",
      "[1, 2, 3, 4, 5]\n"
     ]
    }
   ],
   "source": [
    "# append\n",
    "a = [1,2,3]\n",
    "print(a.append([4,5]))\n",
    "print(a)\n",
    "a = [1,2,3]\n",
    "print(a.extend([4,5]))\n",
    "print(a)\n",
    "a = [1,2,3]\n",
    "print(a+[4,5])"
   ]
  },
  {
   "cell_type": "code",
   "execution_count": null,
   "metadata": {},
   "outputs": [],
   "source": []
  }
 ],
 "metadata": {
  "kernelspec": {
   "display_name": "Python 3",
   "language": "python",
   "name": "python3"
  },
  "language_info": {
   "codemirror_mode": {
    "name": "ipython",
    "version": 3
   },
   "file_extension": ".py",
   "mimetype": "text/x-python",
   "name": "python",
   "nbconvert_exporter": "python",
   "pygments_lexer": "ipython3",
   "version": "3.10.16"
  }
 },
 "nbformat": 4,
 "nbformat_minor": 2
}
