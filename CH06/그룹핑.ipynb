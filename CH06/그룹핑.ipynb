{
 "cells": [
  {
   "cell_type": "markdown",
   "metadata": {},
   "source": [
    "## 2025.02.25(화)"
   ]
  },
  {
   "cell_type": "code",
   "execution_count": null,
   "metadata": {},
   "outputs": [],
   "source": []
  },
  {
   "cell_type": "code",
   "execution_count": 20,
   "metadata": {},
   "outputs": [
    {
     "name": "stdout",
     "output_type": "stream",
     "text": [
      "park 02-1234-5678\n",
      "park\n",
      "02-1234-5678\n",
      "02\n"
     ]
    }
   ],
   "source": [
    "# 연락처 문자열에서 이름만 추출\n",
    "# 'park 010-1234-5678'\n",
    "# \\w : 알파벳숫자 1개 이상\n",
    "# \\s+ :공백 1개 이상\n",
    "# 숫자(3자리:010)-숫자(4자리)-숫자(4자리)\n",
    "import re\n",
    "\n",
    "data ='park 02-1234-5678'\n",
    "\n",
    "# 국번 : 02,031, \n",
    "p_str = '(?P<name>\\w+)\\s+((\\d{2,3})[-]\\d{4}[-]\\d{4})'\n",
    "\n",
    "pat = re.compile(p_str)\n",
    "m = pat.search(data)\n",
    "print(m.group())\n",
    "# print(m.group().split()[0])\n",
    "# print(m.group(1))\n",
    "print(m.group('name'))\n",
    "print(m.group(2))\n",
    "print(m.group(3))"
   ]
  },
  {
   "cell_type": "code",
   "execution_count": 15,
   "metadata": {},
   "outputs": [
    {
     "data": {
      "text/plain": [
       "'the the'"
      ]
     },
     "execution_count": 15,
     "metadata": {},
     "output_type": "execute_result"
    }
   ],
   "source": [
    "# 재참조 \n",
    "# the the => the를 2번 잘못 썼을 때\n",
    "data = 'paris in the the spring'\n",
    "p_str = r'(\\b\\w+)\\s+\\1'\n",
    "re.search(pattern=p_str, string=data).group()"
   ]
  },
  {
   "cell_type": "code",
   "execution_count": null,
   "metadata": {},
   "outputs": [
    {
     "name": "stdout",
     "output_type": "stream",
     "text": [
      "http:\n"
     ]
    }
   ],
   "source": [
    "# 전방 탐색 \n",
    "pat =re.compile('.+:')\n",
    "m = pat.search('http://google.com')\n",
    "print(m.group()) #http: => http만 추출 \n",
    "# print(m.group()[:-1]) #http: => http만 추출 "
   ]
  },
  {
   "cell_type": "code",
   "execution_count": null,
   "metadata": {},
   "outputs": [
    {
     "name": "stdout",
     "output_type": "stream",
     "text": [
      "http\n"
     ]
    }
   ],
   "source": [
    "# 전방 탐색 \n",
    "pat =re.compile('.+(?=:)') # 긍정전방탐색(?=...)\n",
    "# pat =re.compile('.+(?!:)')  ==> 부정전방탐색\n",
    "m = pat.search('http://google.com')\n",
    "print(m.group()) #http: => http만 추출 \n",
    "# print(m.group()[:-1]) #http: => http만 추출 "
   ]
  },
  {
   "cell_type": "code",
   "execution_count": null,
   "metadata": {},
   "outputs": [],
   "source": [
    "# 예제\n",
    "# foo.bar, autoexec.bat, sendmail.cf\n",
    "# 파일명(알파벳,숫자) + . + 확장자(알파벳,숫자)\n",
    "#       .*             [.]       .*\n",
    "# .*[.].*$      \n",
    "# 위 파일에서 bat인 파일을 제외\n",
    "# .*[.][^b].*$ : bar도 포함된다\n",
    "# .*[.]([^b]..|.[^a].|..[^t])$  ==> cf에서 문제가 발생 \n",
    "# .*[.]([^b]..?|.[^a].?|..[^t]?)$ => 세번째 자리 {0,1} :없거나 한개  "
   ]
  },
  {
   "cell_type": "code",
   "execution_count": 27,
   "metadata": {},
   "outputs": [
    {
     "data": {
      "text/plain": [
       "['user1', 'user3']"
      ]
     },
     "execution_count": 27,
     "metadata": {},
     "output_type": "execute_result"
    }
   ],
   "source": [
    "# 메일 가운데 gmail 인 사원명만 추출 \n",
    "email_data = 'user1@gmail.com user2@naver.com user3@gmail.com'\n",
    "\n",
    "#pattern = '\\w+@gmail[.]com'\n",
    "pattern = '\\w+(?=@gmail[.]com)'\n",
    "\n",
    "re.findall(pattern , email_data)"
   ]
  },
  {
   "cell_type": "code",
   "execution_count": 29,
   "metadata": {},
   "outputs": [
    {
     "data": {
      "text/plain": [
       "['test', 'test']"
      ]
     },
     "execution_count": 29,
     "metadata": {},
     "output_type": "execute_result"
    }
   ],
   "source": [
    "# 부정 전방 탐색 \n",
    "# aaa가 뒤에 나오지 않는 test만 추출 \n",
    "text = 'testaaa test123 test'\n",
    "pattern = 'test(?!aaa)'\n",
    "\n",
    "re.findall(pattern, text)"
   ]
  },
  {
   "cell_type": "code",
   "execution_count": 30,
   "metadata": {},
   "outputs": [
    {
     "data": {
      "text/plain": [
       "['word', 'word']"
      ]
     },
     "execution_count": 30,
     "metadata": {},
     "output_type": "execute_result"
    }
   ],
   "source": [
    "# 긍정 부정 동시 사용 \n",
    "# word 라는 단어 다음에 123이 있는 경우만 찾되, 456은 제외\n",
    "data = 'word123 word456 word789 word123'\n",
    "pattern = 'word(?=123)(?!456)'\n",
    "\n",
    "re.findall(pattern, data)"
   ]
  }
 ],
 "metadata": {
  "kernelspec": {
   "display_name": "Python 3",
   "language": "python",
   "name": "python3"
  },
  "language_info": {
   "codemirror_mode": {
    "name": "ipython",
    "version": 3
   },
   "file_extension": ".py",
   "mimetype": "text/x-python",
   "name": "python",
   "nbconvert_exporter": "python",
   "pygments_lexer": "ipython3",
   "version": "3.10.16"
  }
 },
 "nbformat": 4,
 "nbformat_minor": 2
}
